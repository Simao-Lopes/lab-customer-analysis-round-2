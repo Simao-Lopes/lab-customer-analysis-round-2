{
 "cells": [
  {
   "cell_type": "markdown",
   "id": "ee137247",
   "metadata": {},
   "source": [
    "# Round 2"
   ]
  },
  {
   "cell_type": "markdown",
   "id": "65b58767",
   "metadata": {},
   "source": [
    "    Import libraries"
   ]
  },
  {
   "cell_type": "code",
   "execution_count": 1,
   "id": "faf971b1",
   "metadata": {},
   "outputs": [],
   "source": [
    "import pandas as pd\n",
    "import numpy as np"
   ]
  },
  {
   "cell_type": "markdown",
   "id": "3a2df77b",
   "metadata": {},
   "source": [
    "Import data and present shape"
   ]
  },
  {
   "cell_type": "code",
   "execution_count": 2,
   "id": "532840cb",
   "metadata": {},
   "outputs": [
    {
     "data": {
      "text/plain": [
       "(10910, 26)"
      ]
     },
     "execution_count": 2,
     "metadata": {},
     "output_type": "execute_result"
    }
   ],
   "source": [
    "data = pd.read_csv('marketing_customer_analysis.csv')\n",
    "data.shape"
   ]
  },
  {
   "cell_type": "markdown",
   "id": "e303596b",
   "metadata": {},
   "source": [
    "Standardizing header names"
   ]
  },
  {
   "cell_type": "code",
   "execution_count": 3,
   "id": "7079360f",
   "metadata": {},
   "outputs": [],
   "source": [
    "\n",
    "data.columns = list(map(lambda el: el.lower().replace(' ','_'), data.columns))\n",
    "\n",
    "# Droping the index column\n",
    "data = data.drop(['unnamed:_0'], axis=1)"
   ]
  },
  {
   "cell_type": "markdown",
   "id": "ddf2480e",
   "metadata": {},
   "source": [
    "Showing numerical and categorical rows"
   ]
  },
  {
   "cell_type": "code",
   "execution_count": 4,
   "id": "60d792c1",
   "metadata": {},
   "outputs": [
    {
     "name": "stdout",
     "output_type": "stream",
     "text": [
      "Numerical Columns \n",
      " ['customer_lifetime_value', 'income', 'monthly_premium_auto', 'months_since_last_claim', 'months_since_policy_inception', 'number_of_open_complaints', 'number_of_policies', 'total_claim_amount'] \n",
      "\n",
      "Categorical Columns: \n",
      " ['customer', 'state', 'response', 'coverage', 'education', 'effective_to_date', 'employmentstatus', 'gender', 'location_code', 'marital_status', 'policy_type', 'policy', 'renew_offer_type', 'sales_channel', 'vehicle_class', 'vehicle_size', 'vehicle_type']\n"
     ]
    }
   ],
   "source": [
    "print('Numerical Columns \\n', list(data.select_dtypes(np.number).columns), '\\n')\n",
    "\n",
    "print('Categorical Columns: \\n', list(data.select_dtypes(['object']).columns))"
   ]
  },
  {
   "cell_type": "markdown",
   "id": "42da5173",
   "metadata": {},
   "source": [
    "Check and deal with NaN values."
   ]
  },
  {
   "cell_type": "code",
   "execution_count": 5,
   "id": "0c11668b",
   "metadata": {},
   "outputs": [
    {
     "data": {
      "text/plain": [
       "customer                            0\n",
       "state                             631\n",
       "customer_lifetime_value             0\n",
       "response                          631\n",
       "coverage                            0\n",
       "education                           0\n",
       "effective_to_date                   0\n",
       "employmentstatus                    0\n",
       "gender                              0\n",
       "income                              0\n",
       "location_code                       0\n",
       "marital_status                      0\n",
       "monthly_premium_auto                0\n",
       "months_since_last_claim           633\n",
       "months_since_policy_inception       0\n",
       "number_of_open_complaints         633\n",
       "number_of_policies                  0\n",
       "policy_type                         0\n",
       "policy                              0\n",
       "renew_offer_type                    0\n",
       "sales_channel                       0\n",
       "total_claim_amount                  0\n",
       "vehicle_class                     622\n",
       "vehicle_size                      622\n",
       "vehicle_type                     5482\n",
       "dtype: int64"
      ]
     },
     "execution_count": 5,
     "metadata": {},
     "output_type": "execute_result"
    }
   ],
   "source": [
    "data.isna().sum()"
   ]
  },
  {
   "cell_type": "markdown",
   "id": "9ec990a4",
   "metadata": {},
   "source": [
    "Upon analysis we can see that we have a lot of null values that have almost the same frequency in some fields, they are probably duplicates so we are goint to check for duplicates. After that we recheck the nan values count."
   ]
  },
  {
   "cell_type": "code",
   "execution_count": 6,
   "id": "a8a14131",
   "metadata": {
    "scrolled": true
   },
   "outputs": [
    {
     "data": {
      "text/plain": [
       "customer                            0\n",
       "state                             614\n",
       "customer_lifetime_value             0\n",
       "response                          614\n",
       "coverage                            0\n",
       "education                           0\n",
       "effective_to_date                   0\n",
       "employmentstatus                    0\n",
       "gender                              0\n",
       "income                              0\n",
       "location_code                       0\n",
       "marital_status                      0\n",
       "monthly_premium_auto                0\n",
       "months_since_last_claim           623\n",
       "months_since_policy_inception       0\n",
       "number_of_open_complaints         623\n",
       "number_of_policies                  0\n",
       "policy_type                         0\n",
       "policy                              0\n",
       "renew_offer_type                    0\n",
       "sales_channel                       0\n",
       "total_claim_amount                  0\n",
       "vehicle_class                     608\n",
       "vehicle_size                      608\n",
       "vehicle_type                     5465\n",
       "dtype: int64"
      ]
     },
     "metadata": {},
     "output_type": "display_data"
    },
    {
     "data": {
      "text/html": [
       "<div>\n",
       "<style scoped>\n",
       "    .dataframe tbody tr th:only-of-type {\n",
       "        vertical-align: middle;\n",
       "    }\n",
       "\n",
       "    .dataframe tbody tr th {\n",
       "        vertical-align: top;\n",
       "    }\n",
       "\n",
       "    .dataframe thead th {\n",
       "        text-align: right;\n",
       "    }\n",
       "</style>\n",
       "<table border=\"1\" class=\"dataframe\">\n",
       "  <thead>\n",
       "    <tr style=\"text-align: right;\">\n",
       "      <th></th>\n",
       "      <th>customer</th>\n",
       "      <th>state</th>\n",
       "      <th>customer_lifetime_value</th>\n",
       "      <th>response</th>\n",
       "      <th>coverage</th>\n",
       "      <th>education</th>\n",
       "      <th>effective_to_date</th>\n",
       "      <th>employmentstatus</th>\n",
       "      <th>gender</th>\n",
       "      <th>income</th>\n",
       "      <th>...</th>\n",
       "      <th>number_of_open_complaints</th>\n",
       "      <th>number_of_policies</th>\n",
       "      <th>policy_type</th>\n",
       "      <th>policy</th>\n",
       "      <th>renew_offer_type</th>\n",
       "      <th>sales_channel</th>\n",
       "      <th>total_claim_amount</th>\n",
       "      <th>vehicle_class</th>\n",
       "      <th>vehicle_size</th>\n",
       "      <th>vehicle_type</th>\n",
       "    </tr>\n",
       "  </thead>\n",
       "  <tbody>\n",
       "    <tr>\n",
       "      <th>0</th>\n",
       "      <td>DK49336</td>\n",
       "      <td>Arizona</td>\n",
       "      <td>4809.216960</td>\n",
       "      <td>No</td>\n",
       "      <td>Basic</td>\n",
       "      <td>College</td>\n",
       "      <td>2/18/11</td>\n",
       "      <td>Employed</td>\n",
       "      <td>M</td>\n",
       "      <td>48029</td>\n",
       "      <td>...</td>\n",
       "      <td>0.0</td>\n",
       "      <td>9</td>\n",
       "      <td>Corporate Auto</td>\n",
       "      <td>Corporate L3</td>\n",
       "      <td>Offer3</td>\n",
       "      <td>Agent</td>\n",
       "      <td>292.800000</td>\n",
       "      <td>Four-Door Car</td>\n",
       "      <td>Medsize</td>\n",
       "      <td>NaN</td>\n",
       "    </tr>\n",
       "    <tr>\n",
       "      <th>1</th>\n",
       "      <td>KX64629</td>\n",
       "      <td>California</td>\n",
       "      <td>2228.525238</td>\n",
       "      <td>No</td>\n",
       "      <td>Basic</td>\n",
       "      <td>College</td>\n",
       "      <td>1/18/11</td>\n",
       "      <td>Unemployed</td>\n",
       "      <td>F</td>\n",
       "      <td>0</td>\n",
       "      <td>...</td>\n",
       "      <td>0.0</td>\n",
       "      <td>1</td>\n",
       "      <td>Personal Auto</td>\n",
       "      <td>Personal L3</td>\n",
       "      <td>Offer4</td>\n",
       "      <td>Call Center</td>\n",
       "      <td>744.924331</td>\n",
       "      <td>Four-Door Car</td>\n",
       "      <td>Medsize</td>\n",
       "      <td>NaN</td>\n",
       "    </tr>\n",
       "    <tr>\n",
       "      <th>2</th>\n",
       "      <td>LZ68649</td>\n",
       "      <td>Washington</td>\n",
       "      <td>14947.917300</td>\n",
       "      <td>No</td>\n",
       "      <td>Basic</td>\n",
       "      <td>Bachelor</td>\n",
       "      <td>2/10/11</td>\n",
       "      <td>Employed</td>\n",
       "      <td>M</td>\n",
       "      <td>22139</td>\n",
       "      <td>...</td>\n",
       "      <td>0.0</td>\n",
       "      <td>2</td>\n",
       "      <td>Personal Auto</td>\n",
       "      <td>Personal L3</td>\n",
       "      <td>Offer3</td>\n",
       "      <td>Call Center</td>\n",
       "      <td>480.000000</td>\n",
       "      <td>SUV</td>\n",
       "      <td>Medsize</td>\n",
       "      <td>A</td>\n",
       "    </tr>\n",
       "    <tr>\n",
       "      <th>3</th>\n",
       "      <td>XL78013</td>\n",
       "      <td>Oregon</td>\n",
       "      <td>22332.439460</td>\n",
       "      <td>Yes</td>\n",
       "      <td>Extended</td>\n",
       "      <td>College</td>\n",
       "      <td>1/11/11</td>\n",
       "      <td>Employed</td>\n",
       "      <td>M</td>\n",
       "      <td>49078</td>\n",
       "      <td>...</td>\n",
       "      <td>0.0</td>\n",
       "      <td>2</td>\n",
       "      <td>Corporate Auto</td>\n",
       "      <td>Corporate L3</td>\n",
       "      <td>Offer2</td>\n",
       "      <td>Branch</td>\n",
       "      <td>484.013411</td>\n",
       "      <td>Four-Door Car</td>\n",
       "      <td>Medsize</td>\n",
       "      <td>A</td>\n",
       "    </tr>\n",
       "    <tr>\n",
       "      <th>4</th>\n",
       "      <td>QA50777</td>\n",
       "      <td>Oregon</td>\n",
       "      <td>9025.067525</td>\n",
       "      <td>No</td>\n",
       "      <td>Premium</td>\n",
       "      <td>Bachelor</td>\n",
       "      <td>1/17/11</td>\n",
       "      <td>Medical Leave</td>\n",
       "      <td>F</td>\n",
       "      <td>23675</td>\n",
       "      <td>...</td>\n",
       "      <td>NaN</td>\n",
       "      <td>7</td>\n",
       "      <td>Personal Auto</td>\n",
       "      <td>Personal L2</td>\n",
       "      <td>Offer1</td>\n",
       "      <td>Branch</td>\n",
       "      <td>707.925645</td>\n",
       "      <td>Four-Door Car</td>\n",
       "      <td>Medsize</td>\n",
       "      <td>NaN</td>\n",
       "    </tr>\n",
       "    <tr>\n",
       "      <th>...</th>\n",
       "      <td>...</td>\n",
       "      <td>...</td>\n",
       "      <td>...</td>\n",
       "      <td>...</td>\n",
       "      <td>...</td>\n",
       "      <td>...</td>\n",
       "      <td>...</td>\n",
       "      <td>...</td>\n",
       "      <td>...</td>\n",
       "      <td>...</td>\n",
       "      <td>...</td>\n",
       "      <td>...</td>\n",
       "      <td>...</td>\n",
       "      <td>...</td>\n",
       "      <td>...</td>\n",
       "      <td>...</td>\n",
       "      <td>...</td>\n",
       "      <td>...</td>\n",
       "      <td>...</td>\n",
       "      <td>...</td>\n",
       "      <td>...</td>\n",
       "    </tr>\n",
       "    <tr>\n",
       "      <th>10905</th>\n",
       "      <td>FE99816</td>\n",
       "      <td>Nevada</td>\n",
       "      <td>15563.369440</td>\n",
       "      <td>No</td>\n",
       "      <td>Premium</td>\n",
       "      <td>Bachelor</td>\n",
       "      <td>1/19/11</td>\n",
       "      <td>Unemployed</td>\n",
       "      <td>F</td>\n",
       "      <td>0</td>\n",
       "      <td>...</td>\n",
       "      <td>NaN</td>\n",
       "      <td>7</td>\n",
       "      <td>Personal Auto</td>\n",
       "      <td>Personal L1</td>\n",
       "      <td>Offer3</td>\n",
       "      <td>Web</td>\n",
       "      <td>1214.400000</td>\n",
       "      <td>Luxury Car</td>\n",
       "      <td>Medsize</td>\n",
       "      <td>A</td>\n",
       "    </tr>\n",
       "    <tr>\n",
       "      <th>10906</th>\n",
       "      <td>KX53892</td>\n",
       "      <td>Oregon</td>\n",
       "      <td>5259.444853</td>\n",
       "      <td>No</td>\n",
       "      <td>Basic</td>\n",
       "      <td>College</td>\n",
       "      <td>1/6/11</td>\n",
       "      <td>Employed</td>\n",
       "      <td>F</td>\n",
       "      <td>61146</td>\n",
       "      <td>...</td>\n",
       "      <td>0.0</td>\n",
       "      <td>6</td>\n",
       "      <td>Personal Auto</td>\n",
       "      <td>Personal L3</td>\n",
       "      <td>Offer2</td>\n",
       "      <td>Branch</td>\n",
       "      <td>273.018929</td>\n",
       "      <td>Four-Door Car</td>\n",
       "      <td>Medsize</td>\n",
       "      <td>A</td>\n",
       "    </tr>\n",
       "    <tr>\n",
       "      <th>10907</th>\n",
       "      <td>TL39050</td>\n",
       "      <td>Arizona</td>\n",
       "      <td>23893.304100</td>\n",
       "      <td>No</td>\n",
       "      <td>Extended</td>\n",
       "      <td>Bachelor</td>\n",
       "      <td>2/6/11</td>\n",
       "      <td>Employed</td>\n",
       "      <td>F</td>\n",
       "      <td>39837</td>\n",
       "      <td>...</td>\n",
       "      <td>0.0</td>\n",
       "      <td>2</td>\n",
       "      <td>Corporate Auto</td>\n",
       "      <td>Corporate L3</td>\n",
       "      <td>Offer1</td>\n",
       "      <td>Web</td>\n",
       "      <td>381.306996</td>\n",
       "      <td>Luxury SUV</td>\n",
       "      <td>Medsize</td>\n",
       "      <td>NaN</td>\n",
       "    </tr>\n",
       "    <tr>\n",
       "      <th>10908</th>\n",
       "      <td>WA60547</td>\n",
       "      <td>California</td>\n",
       "      <td>11971.977650</td>\n",
       "      <td>No</td>\n",
       "      <td>Premium</td>\n",
       "      <td>College</td>\n",
       "      <td>2/13/11</td>\n",
       "      <td>Employed</td>\n",
       "      <td>F</td>\n",
       "      <td>64195</td>\n",
       "      <td>...</td>\n",
       "      <td>4.0</td>\n",
       "      <td>6</td>\n",
       "      <td>Personal Auto</td>\n",
       "      <td>Personal L1</td>\n",
       "      <td>Offer1</td>\n",
       "      <td>Branch</td>\n",
       "      <td>618.288849</td>\n",
       "      <td>SUV</td>\n",
       "      <td>Medsize</td>\n",
       "      <td>A</td>\n",
       "    </tr>\n",
       "    <tr>\n",
       "      <th>10909</th>\n",
       "      <td>IV32877</td>\n",
       "      <td>NaN</td>\n",
       "      <td>6857.519928</td>\n",
       "      <td>NaN</td>\n",
       "      <td>Basic</td>\n",
       "      <td>Bachelor</td>\n",
       "      <td>1/8/11</td>\n",
       "      <td>Unemployed</td>\n",
       "      <td>M</td>\n",
       "      <td>0</td>\n",
       "      <td>...</td>\n",
       "      <td>0.0</td>\n",
       "      <td>3</td>\n",
       "      <td>Personal Auto</td>\n",
       "      <td>Personal L1</td>\n",
       "      <td>Offer4</td>\n",
       "      <td>Web</td>\n",
       "      <td>1021.719397</td>\n",
       "      <td>SUV</td>\n",
       "      <td>Medsize</td>\n",
       "      <td>NaN</td>\n",
       "    </tr>\n",
       "  </tbody>\n",
       "</table>\n",
       "<p>10873 rows × 25 columns</p>\n",
       "</div>"
      ],
      "text/plain": [
       "      customer       state  customer_lifetime_value response  coverage  \\\n",
       "0      DK49336     Arizona              4809.216960       No     Basic   \n",
       "1      KX64629  California              2228.525238       No     Basic   \n",
       "2      LZ68649  Washington             14947.917300       No     Basic   \n",
       "3      XL78013      Oregon             22332.439460      Yes  Extended   \n",
       "4      QA50777      Oregon              9025.067525       No   Premium   \n",
       "...        ...         ...                      ...      ...       ...   \n",
       "10905  FE99816      Nevada             15563.369440       No   Premium   \n",
       "10906  KX53892      Oregon              5259.444853       No     Basic   \n",
       "10907  TL39050     Arizona             23893.304100       No  Extended   \n",
       "10908  WA60547  California             11971.977650       No   Premium   \n",
       "10909  IV32877         NaN              6857.519928      NaN     Basic   \n",
       "\n",
       "      education effective_to_date employmentstatus gender  income  ...  \\\n",
       "0       College           2/18/11         Employed      M   48029  ...   \n",
       "1       College           1/18/11       Unemployed      F       0  ...   \n",
       "2      Bachelor           2/10/11         Employed      M   22139  ...   \n",
       "3       College           1/11/11         Employed      M   49078  ...   \n",
       "4      Bachelor           1/17/11    Medical Leave      F   23675  ...   \n",
       "...         ...               ...              ...    ...     ...  ...   \n",
       "10905  Bachelor           1/19/11       Unemployed      F       0  ...   \n",
       "10906   College            1/6/11         Employed      F   61146  ...   \n",
       "10907  Bachelor            2/6/11         Employed      F   39837  ...   \n",
       "10908   College           2/13/11         Employed      F   64195  ...   \n",
       "10909  Bachelor            1/8/11       Unemployed      M       0  ...   \n",
       "\n",
       "      number_of_open_complaints number_of_policies     policy_type  \\\n",
       "0                           0.0                  9  Corporate Auto   \n",
       "1                           0.0                  1   Personal Auto   \n",
       "2                           0.0                  2   Personal Auto   \n",
       "3                           0.0                  2  Corporate Auto   \n",
       "4                           NaN                  7   Personal Auto   \n",
       "...                         ...                ...             ...   \n",
       "10905                       NaN                  7   Personal Auto   \n",
       "10906                       0.0                  6   Personal Auto   \n",
       "10907                       0.0                  2  Corporate Auto   \n",
       "10908                       4.0                  6   Personal Auto   \n",
       "10909                       0.0                  3   Personal Auto   \n",
       "\n",
       "             policy  renew_offer_type  sales_channel  total_claim_amount  \\\n",
       "0      Corporate L3            Offer3          Agent          292.800000   \n",
       "1       Personal L3            Offer4    Call Center          744.924331   \n",
       "2       Personal L3            Offer3    Call Center          480.000000   \n",
       "3      Corporate L3            Offer2         Branch          484.013411   \n",
       "4       Personal L2            Offer1         Branch          707.925645   \n",
       "...             ...               ...            ...                 ...   \n",
       "10905   Personal L1            Offer3            Web         1214.400000   \n",
       "10906   Personal L3            Offer2         Branch          273.018929   \n",
       "10907  Corporate L3            Offer1            Web          381.306996   \n",
       "10908   Personal L1            Offer1         Branch          618.288849   \n",
       "10909   Personal L1            Offer4            Web         1021.719397   \n",
       "\n",
       "       vehicle_class vehicle_size vehicle_type  \n",
       "0      Four-Door Car      Medsize          NaN  \n",
       "1      Four-Door Car      Medsize          NaN  \n",
       "2                SUV      Medsize            A  \n",
       "3      Four-Door Car      Medsize            A  \n",
       "4      Four-Door Car      Medsize          NaN  \n",
       "...              ...          ...          ...  \n",
       "10905     Luxury Car      Medsize            A  \n",
       "10906  Four-Door Car      Medsize            A  \n",
       "10907     Luxury SUV      Medsize          NaN  \n",
       "10908            SUV      Medsize            A  \n",
       "10909            SUV      Medsize          NaN  \n",
       "\n",
       "[10873 rows x 25 columns]"
      ]
     },
     "execution_count": 6,
     "metadata": {},
     "output_type": "execute_result"
    }
   ],
   "source": [
    "data = data.drop_duplicates()\n",
    "display(data.isna().sum())\n",
    "data"
   ]
  },
  {
   "cell_type": "markdown",
   "id": "584d5585",
   "metadata": {},
   "source": [
    "Some rows have ghanged, but some columns still have many Nan's, I think that months_since_last_claim and number_of_open_complaints can be assigned with 0 value, because if they are non existent the most probable cause is that they didn't have a claim or complaint at all.\n",
    "Likewise the field response I think by nature of a boolean and given the name of column should be by default No."
   ]
  },
  {
   "cell_type": "code",
   "execution_count": 7,
   "id": "fd667e25",
   "metadata": {},
   "outputs": [
    {
     "data": {
      "text/plain": [
       "No     8795\n",
       "Yes    1464\n",
       "Name: response, dtype: int64"
      ]
     },
     "execution_count": 7,
     "metadata": {},
     "output_type": "execute_result"
    }
   ],
   "source": [
    "# Since this isn't a true boolean, but an object that acts like one I checked if it had some non conform values\n",
    "data['response'].value_counts()"
   ]
  },
  {
   "cell_type": "code",
   "execution_count": 8,
   "id": "e582670d",
   "metadata": {},
   "outputs": [],
   "source": [
    "# Filling all the NaN's for response with the default No\n",
    "data['response'] = data['response'].fillna('No')"
   ]
  },
  {
   "cell_type": "code",
   "execution_count": 9,
   "id": "06565954",
   "metadata": {},
   "outputs": [],
   "source": [
    "# Filling all the NaN's for months_since_last_claim with 0\n",
    "data['months_since_last_claim'] = data['months_since_last_claim'].fillna(0)"
   ]
  },
  {
   "cell_type": "code",
   "execution_count": 10,
   "id": "4f277b51",
   "metadata": {},
   "outputs": [],
   "source": [
    "# Filling all the NaN's for number_of_open_complaints with 0\n",
    "data['number_of_open_complaints'] = data['number_of_open_complaints'].fillna(0)"
   ]
  },
  {
   "cell_type": "code",
   "execution_count": 11,
   "id": "546f2a21",
   "metadata": {},
   "outputs": [
    {
     "data": {
      "text/plain": [
       "Four-Door Car    5200\n",
       "Two-Door Car     2112\n",
       "SUV              2009\n",
       "Sports Car        548\n",
       "Luxury SUV        208\n",
       "Luxury Car        188\n",
       "Name: vehicle_class, dtype: int64"
      ]
     },
     "execution_count": 11,
     "metadata": {},
     "output_type": "execute_result"
    }
   ],
   "source": [
    "data['vehicle_class'].value_counts()"
   ]
  },
  {
   "cell_type": "code",
   "execution_count": 12,
   "id": "172568ca",
   "metadata": {},
   "outputs": [
    {
     "data": {
      "text/plain": [
       "Medsize    7233\n",
       "Small      1962\n",
       "Large      1070\n",
       "Name: vehicle_size, dtype: int64"
      ]
     },
     "execution_count": 12,
     "metadata": {},
     "output_type": "execute_result"
    }
   ],
   "source": [
    "data['vehicle_size'].value_counts()"
   ]
  },
  {
   "cell_type": "code",
   "execution_count": 13,
   "id": "438a2e7e",
   "metadata": {},
   "outputs": [
    {
     "data": {
      "text/plain": [
       "A    5408\n",
       "Name: vehicle_type, dtype: int64"
      ]
     },
     "execution_count": 13,
     "metadata": {},
     "output_type": "execute_result"
    }
   ],
   "source": [
    "data['vehicle_type'].value_counts()"
   ]
  },
  {
   "cell_type": "markdown",
   "id": "5d4673f6",
   "metadata": {},
   "source": [
    "After checking, I decided to drop the column 'vehicle_type' because it has a lot of NaN's and only one possible value, so it is useless for analysis., also going to drop the mustomer because it is an unique identifier and we don't need it at all.\n",
    "In the future i'll try a version of this Lab not droping 'vehicle_type' and replacing the Nan's with M, because as I have discussed with Erin, the A could refer to automatic and having a Nan could mean it's a Manual.\n",
    "\n",
    "Regarding vehicle_size I'll put assign all Nan's to Medsize, because it is by far the most common vehicle size.\n",
    "In the vehicle_class column I'll fill the Nan's again with the most common value, just because it is again the most common by a really big margin, and join Sports Car, Luxury SUV and Luxury Car under Luxury Car because they aren't that representative and could have a better meaning when grouped."
   ]
  },
  {
   "cell_type": "code",
   "execution_count": 14,
   "id": "eaeb502c",
   "metadata": {},
   "outputs": [],
   "source": [
    "# Droping column customer and vehicle_type\n",
    "data = data.drop(['customer', 'vehicle_type'], axis=1)\n",
    "# Alternative\n",
    "# data = data.drop(columns = ['customer', 'vehicle_type'])"
   ]
  },
  {
   "cell_type": "code",
   "execution_count": 15,
   "id": "a0ae9ae9",
   "metadata": {},
   "outputs": [],
   "source": [
    "# Filling all the NaN's for vehicle_size with Medsize\n",
    "data['vehicle_size'] = data['vehicle_size'].fillna('Medsize')"
   ]
  },
  {
   "cell_type": "code",
   "execution_count": 16,
   "id": "1a0b8095",
   "metadata": {},
   "outputs": [],
   "source": [
    "# Filling all the NaN's for vehicle_class with Four-Door Car\n",
    "data['vehicle_class'] = data['vehicle_class'].fillna('Four-Door Car')\n",
    "\n",
    "# Replacing the old values of Sports car and Luxury SUV with Luxury Car\n",
    "data['vehicle_class'] = data['vehicle_class'].replace(['Sports Car','Luxury SUV'],'Luxury Car')"
   ]
  },
  {
   "cell_type": "markdown",
   "id": "ecad34fc",
   "metadata": {},
   "source": [
    "Only one column to analyse, the column state witch still has 614 Nan's, lets checkout the calues and see if we can act."
   ]
  },
  {
   "cell_type": "code",
   "execution_count": 17,
   "id": "cee062b0",
   "metadata": {
    "scrolled": true
   },
   "outputs": [
    {
     "data": {
      "text/plain": [
       "California    3548\n",
       "Oregon        2897\n",
       "Arizona       1934\n",
       "Nevada         992\n",
       "Washington     888\n",
       "Name: state, dtype: int64"
      ]
     },
     "execution_count": 17,
     "metadata": {},
     "output_type": "execute_result"
    }
   ],
   "source": [
    "data['state'].value_counts()"
   ]
  },
  {
   "cell_type": "markdown",
   "id": "520aebfc",
   "metadata": {},
   "source": [
    "Since there are so many rows with Nan, and I can't see a very dominant value I don't think atributing them all to California is right. Maybe an equal distribuiton wouldn't mess the data but at least for now i can't see a way of implementing that outside of using counters and an exaustive loop to distribute the assigned values. For that reason and just not to leave them as Nan's I'm going to replace them with Other State, since droping all the rows seems too much."
   ]
  },
  {
   "cell_type": "code",
   "execution_count": 18,
   "id": "bd17fc21",
   "metadata": {},
   "outputs": [],
   "source": [
    "data['state'] = data['state'].fillna('Other State')"
   ]
  },
  {
   "cell_type": "markdown",
   "id": "8eb15db5",
   "metadata": {},
   "source": [
    "Extracting the month and creating a new column, then filter to show only the first quarter. The field that we have to convert to a data is the only one that in the data has a date format, 'efective_to_date', but it is currently with the object type, we have to convert it do datetime type."
   ]
  },
  {
   "cell_type": "code",
   "execution_count": 19,
   "id": "471fa471",
   "metadata": {},
   "outputs": [],
   "source": [
    "# converting the type from object to datetime\n",
    "data['effective_to_date'] = pd.to_datetime(data['effective_to_date'], errors='coerce')\n",
    "#data['month'] = pd.DatetimeIndex(data['effective_to_date']).month\n",
    "\n",
    "# Alternative method\n",
    "data['month'] = data['effective_to_date'].dt.month"
   ]
  },
  {
   "cell_type": "code",
   "execution_count": 20,
   "id": "35b43047",
   "metadata": {},
   "outputs": [
    {
     "data": {
      "text/html": [
       "<div>\n",
       "<style scoped>\n",
       "    .dataframe tbody tr th:only-of-type {\n",
       "        vertical-align: middle;\n",
       "    }\n",
       "\n",
       "    .dataframe tbody tr th {\n",
       "        vertical-align: top;\n",
       "    }\n",
       "\n",
       "    .dataframe thead th {\n",
       "        text-align: right;\n",
       "    }\n",
       "</style>\n",
       "<table border=\"1\" class=\"dataframe\">\n",
       "  <thead>\n",
       "    <tr style=\"text-align: right;\">\n",
       "      <th></th>\n",
       "      <th>state</th>\n",
       "      <th>customer_lifetime_value</th>\n",
       "      <th>response</th>\n",
       "      <th>coverage</th>\n",
       "      <th>education</th>\n",
       "      <th>effective_to_date</th>\n",
       "      <th>employmentstatus</th>\n",
       "      <th>gender</th>\n",
       "      <th>income</th>\n",
       "      <th>location_code</th>\n",
       "      <th>...</th>\n",
       "      <th>number_of_open_complaints</th>\n",
       "      <th>number_of_policies</th>\n",
       "      <th>policy_type</th>\n",
       "      <th>policy</th>\n",
       "      <th>renew_offer_type</th>\n",
       "      <th>sales_channel</th>\n",
       "      <th>total_claim_amount</th>\n",
       "      <th>vehicle_class</th>\n",
       "      <th>vehicle_size</th>\n",
       "      <th>month</th>\n",
       "    </tr>\n",
       "  </thead>\n",
       "  <tbody>\n",
       "    <tr>\n",
       "      <th>0</th>\n",
       "      <td>Arizona</td>\n",
       "      <td>4809.216960</td>\n",
       "      <td>No</td>\n",
       "      <td>Basic</td>\n",
       "      <td>College</td>\n",
       "      <td>2011-02-18</td>\n",
       "      <td>Employed</td>\n",
       "      <td>M</td>\n",
       "      <td>48029</td>\n",
       "      <td>Suburban</td>\n",
       "      <td>...</td>\n",
       "      <td>0.0</td>\n",
       "      <td>9</td>\n",
       "      <td>Corporate Auto</td>\n",
       "      <td>Corporate L3</td>\n",
       "      <td>Offer3</td>\n",
       "      <td>Agent</td>\n",
       "      <td>292.800000</td>\n",
       "      <td>Four-Door Car</td>\n",
       "      <td>Medsize</td>\n",
       "      <td>2</td>\n",
       "    </tr>\n",
       "    <tr>\n",
       "      <th>1</th>\n",
       "      <td>California</td>\n",
       "      <td>2228.525238</td>\n",
       "      <td>No</td>\n",
       "      <td>Basic</td>\n",
       "      <td>College</td>\n",
       "      <td>2011-01-18</td>\n",
       "      <td>Unemployed</td>\n",
       "      <td>F</td>\n",
       "      <td>0</td>\n",
       "      <td>Suburban</td>\n",
       "      <td>...</td>\n",
       "      <td>0.0</td>\n",
       "      <td>1</td>\n",
       "      <td>Personal Auto</td>\n",
       "      <td>Personal L3</td>\n",
       "      <td>Offer4</td>\n",
       "      <td>Call Center</td>\n",
       "      <td>744.924331</td>\n",
       "      <td>Four-Door Car</td>\n",
       "      <td>Medsize</td>\n",
       "      <td>1</td>\n",
       "    </tr>\n",
       "    <tr>\n",
       "      <th>2</th>\n",
       "      <td>Washington</td>\n",
       "      <td>14947.917300</td>\n",
       "      <td>No</td>\n",
       "      <td>Basic</td>\n",
       "      <td>Bachelor</td>\n",
       "      <td>2011-02-10</td>\n",
       "      <td>Employed</td>\n",
       "      <td>M</td>\n",
       "      <td>22139</td>\n",
       "      <td>Suburban</td>\n",
       "      <td>...</td>\n",
       "      <td>0.0</td>\n",
       "      <td>2</td>\n",
       "      <td>Personal Auto</td>\n",
       "      <td>Personal L3</td>\n",
       "      <td>Offer3</td>\n",
       "      <td>Call Center</td>\n",
       "      <td>480.000000</td>\n",
       "      <td>SUV</td>\n",
       "      <td>Medsize</td>\n",
       "      <td>2</td>\n",
       "    </tr>\n",
       "    <tr>\n",
       "      <th>3</th>\n",
       "      <td>Oregon</td>\n",
       "      <td>22332.439460</td>\n",
       "      <td>Yes</td>\n",
       "      <td>Extended</td>\n",
       "      <td>College</td>\n",
       "      <td>2011-01-11</td>\n",
       "      <td>Employed</td>\n",
       "      <td>M</td>\n",
       "      <td>49078</td>\n",
       "      <td>Suburban</td>\n",
       "      <td>...</td>\n",
       "      <td>0.0</td>\n",
       "      <td>2</td>\n",
       "      <td>Corporate Auto</td>\n",
       "      <td>Corporate L3</td>\n",
       "      <td>Offer2</td>\n",
       "      <td>Branch</td>\n",
       "      <td>484.013411</td>\n",
       "      <td>Four-Door Car</td>\n",
       "      <td>Medsize</td>\n",
       "      <td>1</td>\n",
       "    </tr>\n",
       "    <tr>\n",
       "      <th>4</th>\n",
       "      <td>Oregon</td>\n",
       "      <td>9025.067525</td>\n",
       "      <td>No</td>\n",
       "      <td>Premium</td>\n",
       "      <td>Bachelor</td>\n",
       "      <td>2011-01-17</td>\n",
       "      <td>Medical Leave</td>\n",
       "      <td>F</td>\n",
       "      <td>23675</td>\n",
       "      <td>Suburban</td>\n",
       "      <td>...</td>\n",
       "      <td>0.0</td>\n",
       "      <td>7</td>\n",
       "      <td>Personal Auto</td>\n",
       "      <td>Personal L2</td>\n",
       "      <td>Offer1</td>\n",
       "      <td>Branch</td>\n",
       "      <td>707.925645</td>\n",
       "      <td>Four-Door Car</td>\n",
       "      <td>Medsize</td>\n",
       "      <td>1</td>\n",
       "    </tr>\n",
       "    <tr>\n",
       "      <th>...</th>\n",
       "      <td>...</td>\n",
       "      <td>...</td>\n",
       "      <td>...</td>\n",
       "      <td>...</td>\n",
       "      <td>...</td>\n",
       "      <td>...</td>\n",
       "      <td>...</td>\n",
       "      <td>...</td>\n",
       "      <td>...</td>\n",
       "      <td>...</td>\n",
       "      <td>...</td>\n",
       "      <td>...</td>\n",
       "      <td>...</td>\n",
       "      <td>...</td>\n",
       "      <td>...</td>\n",
       "      <td>...</td>\n",
       "      <td>...</td>\n",
       "      <td>...</td>\n",
       "      <td>...</td>\n",
       "      <td>...</td>\n",
       "      <td>...</td>\n",
       "    </tr>\n",
       "    <tr>\n",
       "      <th>10479</th>\n",
       "      <td>Nevada</td>\n",
       "      <td>15563.369440</td>\n",
       "      <td>No</td>\n",
       "      <td>Premium</td>\n",
       "      <td>Bachelor</td>\n",
       "      <td>2011-01-19</td>\n",
       "      <td>Unemployed</td>\n",
       "      <td>F</td>\n",
       "      <td>0</td>\n",
       "      <td>Suburban</td>\n",
       "      <td>...</td>\n",
       "      <td>0.0</td>\n",
       "      <td>7</td>\n",
       "      <td>Personal Auto</td>\n",
       "      <td>Personal L1</td>\n",
       "      <td>Offer3</td>\n",
       "      <td>Web</td>\n",
       "      <td>1214.400000</td>\n",
       "      <td>Luxury Car</td>\n",
       "      <td>Medsize</td>\n",
       "      <td>1</td>\n",
       "    </tr>\n",
       "    <tr>\n",
       "      <th>10480</th>\n",
       "      <td>Oregon</td>\n",
       "      <td>5259.444853</td>\n",
       "      <td>No</td>\n",
       "      <td>Basic</td>\n",
       "      <td>College</td>\n",
       "      <td>2011-01-06</td>\n",
       "      <td>Employed</td>\n",
       "      <td>F</td>\n",
       "      <td>61146</td>\n",
       "      <td>Urban</td>\n",
       "      <td>...</td>\n",
       "      <td>0.0</td>\n",
       "      <td>6</td>\n",
       "      <td>Personal Auto</td>\n",
       "      <td>Personal L3</td>\n",
       "      <td>Offer2</td>\n",
       "      <td>Branch</td>\n",
       "      <td>273.018929</td>\n",
       "      <td>Four-Door Car</td>\n",
       "      <td>Medsize</td>\n",
       "      <td>1</td>\n",
       "    </tr>\n",
       "    <tr>\n",
       "      <th>10481</th>\n",
       "      <td>Arizona</td>\n",
       "      <td>23893.304100</td>\n",
       "      <td>No</td>\n",
       "      <td>Extended</td>\n",
       "      <td>Bachelor</td>\n",
       "      <td>2011-02-06</td>\n",
       "      <td>Employed</td>\n",
       "      <td>F</td>\n",
       "      <td>39837</td>\n",
       "      <td>Rural</td>\n",
       "      <td>...</td>\n",
       "      <td>0.0</td>\n",
       "      <td>2</td>\n",
       "      <td>Corporate Auto</td>\n",
       "      <td>Corporate L3</td>\n",
       "      <td>Offer1</td>\n",
       "      <td>Web</td>\n",
       "      <td>381.306996</td>\n",
       "      <td>Luxury Car</td>\n",
       "      <td>Medsize</td>\n",
       "      <td>2</td>\n",
       "    </tr>\n",
       "    <tr>\n",
       "      <th>10482</th>\n",
       "      <td>California</td>\n",
       "      <td>11971.977650</td>\n",
       "      <td>No</td>\n",
       "      <td>Premium</td>\n",
       "      <td>College</td>\n",
       "      <td>2011-02-13</td>\n",
       "      <td>Employed</td>\n",
       "      <td>F</td>\n",
       "      <td>64195</td>\n",
       "      <td>Urban</td>\n",
       "      <td>...</td>\n",
       "      <td>4.0</td>\n",
       "      <td>6</td>\n",
       "      <td>Personal Auto</td>\n",
       "      <td>Personal L1</td>\n",
       "      <td>Offer1</td>\n",
       "      <td>Branch</td>\n",
       "      <td>618.288849</td>\n",
       "      <td>SUV</td>\n",
       "      <td>Medsize</td>\n",
       "      <td>2</td>\n",
       "    </tr>\n",
       "    <tr>\n",
       "      <th>10483</th>\n",
       "      <td>Other State</td>\n",
       "      <td>6857.519928</td>\n",
       "      <td>No</td>\n",
       "      <td>Basic</td>\n",
       "      <td>Bachelor</td>\n",
       "      <td>2011-01-08</td>\n",
       "      <td>Unemployed</td>\n",
       "      <td>M</td>\n",
       "      <td>0</td>\n",
       "      <td>Suburban</td>\n",
       "      <td>...</td>\n",
       "      <td>0.0</td>\n",
       "      <td>3</td>\n",
       "      <td>Personal Auto</td>\n",
       "      <td>Personal L1</td>\n",
       "      <td>Offer4</td>\n",
       "      <td>Web</td>\n",
       "      <td>1021.719397</td>\n",
       "      <td>SUV</td>\n",
       "      <td>Medsize</td>\n",
       "      <td>1</td>\n",
       "    </tr>\n",
       "  </tbody>\n",
       "</table>\n",
       "<p>10484 rows × 24 columns</p>\n",
       "</div>"
      ],
      "text/plain": [
       "             state  customer_lifetime_value response  coverage education  \\\n",
       "0          Arizona              4809.216960       No     Basic   College   \n",
       "1       California              2228.525238       No     Basic   College   \n",
       "2       Washington             14947.917300       No     Basic  Bachelor   \n",
       "3           Oregon             22332.439460      Yes  Extended   College   \n",
       "4           Oregon              9025.067525       No   Premium  Bachelor   \n",
       "...            ...                      ...      ...       ...       ...   \n",
       "10479       Nevada             15563.369440       No   Premium  Bachelor   \n",
       "10480       Oregon              5259.444853       No     Basic   College   \n",
       "10481      Arizona             23893.304100       No  Extended  Bachelor   \n",
       "10482   California             11971.977650       No   Premium   College   \n",
       "10483  Other State              6857.519928       No     Basic  Bachelor   \n",
       "\n",
       "      effective_to_date employmentstatus gender  income location_code  ...  \\\n",
       "0            2011-02-18         Employed      M   48029      Suburban  ...   \n",
       "1            2011-01-18       Unemployed      F       0      Suburban  ...   \n",
       "2            2011-02-10         Employed      M   22139      Suburban  ...   \n",
       "3            2011-01-11         Employed      M   49078      Suburban  ...   \n",
       "4            2011-01-17    Medical Leave      F   23675      Suburban  ...   \n",
       "...                 ...              ...    ...     ...           ...  ...   \n",
       "10479        2011-01-19       Unemployed      F       0      Suburban  ...   \n",
       "10480        2011-01-06         Employed      F   61146         Urban  ...   \n",
       "10481        2011-02-06         Employed      F   39837         Rural  ...   \n",
       "10482        2011-02-13         Employed      F   64195         Urban  ...   \n",
       "10483        2011-01-08       Unemployed      M       0      Suburban  ...   \n",
       "\n",
       "      number_of_open_complaints  number_of_policies     policy_type  \\\n",
       "0                           0.0                   9  Corporate Auto   \n",
       "1                           0.0                   1   Personal Auto   \n",
       "2                           0.0                   2   Personal Auto   \n",
       "3                           0.0                   2  Corporate Auto   \n",
       "4                           0.0                   7   Personal Auto   \n",
       "...                         ...                 ...             ...   \n",
       "10479                       0.0                   7   Personal Auto   \n",
       "10480                       0.0                   6   Personal Auto   \n",
       "10481                       0.0                   2  Corporate Auto   \n",
       "10482                       4.0                   6   Personal Auto   \n",
       "10483                       0.0                   3   Personal Auto   \n",
       "\n",
       "             policy  renew_offer_type  sales_channel total_claim_amount  \\\n",
       "0      Corporate L3            Offer3          Agent         292.800000   \n",
       "1       Personal L3            Offer4    Call Center         744.924331   \n",
       "2       Personal L3            Offer3    Call Center         480.000000   \n",
       "3      Corporate L3            Offer2         Branch         484.013411   \n",
       "4       Personal L2            Offer1         Branch         707.925645   \n",
       "...             ...               ...            ...                ...   \n",
       "10479   Personal L1            Offer3            Web        1214.400000   \n",
       "10480   Personal L3            Offer2         Branch         273.018929   \n",
       "10481  Corporate L3            Offer1            Web         381.306996   \n",
       "10482   Personal L1            Offer1         Branch         618.288849   \n",
       "10483   Personal L1            Offer4            Web        1021.719397   \n",
       "\n",
       "       vehicle_class vehicle_size month  \n",
       "0      Four-Door Car      Medsize     2  \n",
       "1      Four-Door Car      Medsize     1  \n",
       "2                SUV      Medsize     2  \n",
       "3      Four-Door Car      Medsize     1  \n",
       "4      Four-Door Car      Medsize     1  \n",
       "...              ...          ...   ...  \n",
       "10479     Luxury Car      Medsize     1  \n",
       "10480  Four-Door Car      Medsize     1  \n",
       "10481     Luxury Car      Medsize     2  \n",
       "10482            SUV      Medsize     2  \n",
       "10483            SUV      Medsize     1  \n",
       "\n",
       "[10484 rows x 24 columns]"
      ]
     },
     "execution_count": 20,
     "metadata": {},
     "output_type": "execute_result"
    }
   ],
   "source": [
    "# Again Dropping the possible duplicates and reseting the index\n",
    "data = data.drop_duplicates()\n",
    "data = data.reset_index(drop=True)\n",
    "\n",
    "# filtering the month January to March\n",
    "data[(data['month'].isin([1,2,3]))]"
   ]
  },
  {
   "cell_type": "markdown",
   "id": "6c0faa5c",
   "metadata": {},
   "source": [
    "# Bonus task"
   ]
  },
  {
   "cell_type": "markdown",
   "id": "b812518e",
   "metadata": {},
   "source": [
    "I'm not going through the descriptive process as it is discribed in detail above, but I'm going to pack it into a function as instructed."
   ]
  },
  {
   "cell_type": "code",
   "execution_count": 21,
   "id": "8e650ef6",
   "metadata": {},
   "outputs": [
    {
     "name": "stdout",
     "output_type": "stream",
     "text": [
      "Numerical Columns \n",
      " ['customer_lifetime_value', 'income', 'monthly_premium_auto', 'months_since_last_claim', 'months_since_policy_inception', 'number_of_open_complaints', 'number_of_policies', 'total_claim_amount'] \n",
      "\n",
      "Categorical Columns: \n",
      " ['customer', 'state', 'response', 'coverage', 'education', 'effective_to_date', 'employmentstatus', 'gender', 'location_code', 'marital_status', 'policy_type', 'policy', 'renew_offer_type', 'sales_channel', 'vehicle_class', 'vehicle_size', 'vehicle_type']\n"
     ]
    },
    {
     "data": {
      "text/html": [
       "<div>\n",
       "<style scoped>\n",
       "    .dataframe tbody tr th:only-of-type {\n",
       "        vertical-align: middle;\n",
       "    }\n",
       "\n",
       "    .dataframe tbody tr th {\n",
       "        vertical-align: top;\n",
       "    }\n",
       "\n",
       "    .dataframe thead th {\n",
       "        text-align: right;\n",
       "    }\n",
       "</style>\n",
       "<table border=\"1\" class=\"dataframe\">\n",
       "  <thead>\n",
       "    <tr style=\"text-align: right;\">\n",
       "      <th></th>\n",
       "      <th>state</th>\n",
       "      <th>customer_lifetime_value</th>\n",
       "      <th>response</th>\n",
       "      <th>coverage</th>\n",
       "      <th>education</th>\n",
       "      <th>effective_to_date</th>\n",
       "      <th>employmentstatus</th>\n",
       "      <th>gender</th>\n",
       "      <th>income</th>\n",
       "      <th>location_code</th>\n",
       "      <th>...</th>\n",
       "      <th>number_of_open_complaints</th>\n",
       "      <th>number_of_policies</th>\n",
       "      <th>policy_type</th>\n",
       "      <th>policy</th>\n",
       "      <th>renew_offer_type</th>\n",
       "      <th>sales_channel</th>\n",
       "      <th>total_claim_amount</th>\n",
       "      <th>vehicle_class</th>\n",
       "      <th>vehicle_size</th>\n",
       "      <th>month</th>\n",
       "    </tr>\n",
       "  </thead>\n",
       "  <tbody>\n",
       "    <tr>\n",
       "      <th>0</th>\n",
       "      <td>Arizona</td>\n",
       "      <td>4809.216960</td>\n",
       "      <td>No</td>\n",
       "      <td>Basic</td>\n",
       "      <td>College</td>\n",
       "      <td>2011-02-18</td>\n",
       "      <td>Employed</td>\n",
       "      <td>M</td>\n",
       "      <td>48029</td>\n",
       "      <td>Suburban</td>\n",
       "      <td>...</td>\n",
       "      <td>0.0</td>\n",
       "      <td>9</td>\n",
       "      <td>Corporate Auto</td>\n",
       "      <td>Corporate L3</td>\n",
       "      <td>Offer3</td>\n",
       "      <td>Agent</td>\n",
       "      <td>292.800000</td>\n",
       "      <td>Four-Door Car</td>\n",
       "      <td>Medsize</td>\n",
       "      <td>2</td>\n",
       "    </tr>\n",
       "    <tr>\n",
       "      <th>1</th>\n",
       "      <td>California</td>\n",
       "      <td>2228.525238</td>\n",
       "      <td>No</td>\n",
       "      <td>Basic</td>\n",
       "      <td>College</td>\n",
       "      <td>2011-01-18</td>\n",
       "      <td>Unemployed</td>\n",
       "      <td>F</td>\n",
       "      <td>0</td>\n",
       "      <td>Suburban</td>\n",
       "      <td>...</td>\n",
       "      <td>0.0</td>\n",
       "      <td>1</td>\n",
       "      <td>Personal Auto</td>\n",
       "      <td>Personal L3</td>\n",
       "      <td>Offer4</td>\n",
       "      <td>Call Center</td>\n",
       "      <td>744.924331</td>\n",
       "      <td>Four-Door Car</td>\n",
       "      <td>Medsize</td>\n",
       "      <td>1</td>\n",
       "    </tr>\n",
       "    <tr>\n",
       "      <th>2</th>\n",
       "      <td>Washington</td>\n",
       "      <td>14947.917300</td>\n",
       "      <td>No</td>\n",
       "      <td>Basic</td>\n",
       "      <td>Bachelor</td>\n",
       "      <td>2011-02-10</td>\n",
       "      <td>Employed</td>\n",
       "      <td>M</td>\n",
       "      <td>22139</td>\n",
       "      <td>Suburban</td>\n",
       "      <td>...</td>\n",
       "      <td>0.0</td>\n",
       "      <td>2</td>\n",
       "      <td>Personal Auto</td>\n",
       "      <td>Personal L3</td>\n",
       "      <td>Offer3</td>\n",
       "      <td>Call Center</td>\n",
       "      <td>480.000000</td>\n",
       "      <td>SUV</td>\n",
       "      <td>Medsize</td>\n",
       "      <td>2</td>\n",
       "    </tr>\n",
       "    <tr>\n",
       "      <th>3</th>\n",
       "      <td>Oregon</td>\n",
       "      <td>22332.439460</td>\n",
       "      <td>Yes</td>\n",
       "      <td>Extended</td>\n",
       "      <td>College</td>\n",
       "      <td>2011-01-11</td>\n",
       "      <td>Employed</td>\n",
       "      <td>M</td>\n",
       "      <td>49078</td>\n",
       "      <td>Suburban</td>\n",
       "      <td>...</td>\n",
       "      <td>0.0</td>\n",
       "      <td>2</td>\n",
       "      <td>Corporate Auto</td>\n",
       "      <td>Corporate L3</td>\n",
       "      <td>Offer2</td>\n",
       "      <td>Branch</td>\n",
       "      <td>484.013411</td>\n",
       "      <td>Four-Door Car</td>\n",
       "      <td>Medsize</td>\n",
       "      <td>1</td>\n",
       "    </tr>\n",
       "    <tr>\n",
       "      <th>4</th>\n",
       "      <td>Oregon</td>\n",
       "      <td>9025.067525</td>\n",
       "      <td>No</td>\n",
       "      <td>Premium</td>\n",
       "      <td>Bachelor</td>\n",
       "      <td>2011-01-17</td>\n",
       "      <td>Medical Leave</td>\n",
       "      <td>F</td>\n",
       "      <td>23675</td>\n",
       "      <td>Suburban</td>\n",
       "      <td>...</td>\n",
       "      <td>0.0</td>\n",
       "      <td>7</td>\n",
       "      <td>Personal Auto</td>\n",
       "      <td>Personal L2</td>\n",
       "      <td>Offer1</td>\n",
       "      <td>Branch</td>\n",
       "      <td>707.925645</td>\n",
       "      <td>Four-Door Car</td>\n",
       "      <td>Medsize</td>\n",
       "      <td>1</td>\n",
       "    </tr>\n",
       "    <tr>\n",
       "      <th>...</th>\n",
       "      <td>...</td>\n",
       "      <td>...</td>\n",
       "      <td>...</td>\n",
       "      <td>...</td>\n",
       "      <td>...</td>\n",
       "      <td>...</td>\n",
       "      <td>...</td>\n",
       "      <td>...</td>\n",
       "      <td>...</td>\n",
       "      <td>...</td>\n",
       "      <td>...</td>\n",
       "      <td>...</td>\n",
       "      <td>...</td>\n",
       "      <td>...</td>\n",
       "      <td>...</td>\n",
       "      <td>...</td>\n",
       "      <td>...</td>\n",
       "      <td>...</td>\n",
       "      <td>...</td>\n",
       "      <td>...</td>\n",
       "      <td>...</td>\n",
       "    </tr>\n",
       "    <tr>\n",
       "      <th>10868</th>\n",
       "      <td>Nevada</td>\n",
       "      <td>15563.369440</td>\n",
       "      <td>No</td>\n",
       "      <td>Premium</td>\n",
       "      <td>Bachelor</td>\n",
       "      <td>2011-01-19</td>\n",
       "      <td>Unemployed</td>\n",
       "      <td>F</td>\n",
       "      <td>0</td>\n",
       "      <td>Suburban</td>\n",
       "      <td>...</td>\n",
       "      <td>0.0</td>\n",
       "      <td>7</td>\n",
       "      <td>Personal Auto</td>\n",
       "      <td>Personal L1</td>\n",
       "      <td>Offer3</td>\n",
       "      <td>Web</td>\n",
       "      <td>1214.400000</td>\n",
       "      <td>Luxury Car</td>\n",
       "      <td>Medsize</td>\n",
       "      <td>1</td>\n",
       "    </tr>\n",
       "    <tr>\n",
       "      <th>10869</th>\n",
       "      <td>Oregon</td>\n",
       "      <td>5259.444853</td>\n",
       "      <td>No</td>\n",
       "      <td>Basic</td>\n",
       "      <td>College</td>\n",
       "      <td>2011-01-06</td>\n",
       "      <td>Employed</td>\n",
       "      <td>F</td>\n",
       "      <td>61146</td>\n",
       "      <td>Urban</td>\n",
       "      <td>...</td>\n",
       "      <td>0.0</td>\n",
       "      <td>6</td>\n",
       "      <td>Personal Auto</td>\n",
       "      <td>Personal L3</td>\n",
       "      <td>Offer2</td>\n",
       "      <td>Branch</td>\n",
       "      <td>273.018929</td>\n",
       "      <td>Four-Door Car</td>\n",
       "      <td>Medsize</td>\n",
       "      <td>1</td>\n",
       "    </tr>\n",
       "    <tr>\n",
       "      <th>10870</th>\n",
       "      <td>Arizona</td>\n",
       "      <td>23893.304100</td>\n",
       "      <td>No</td>\n",
       "      <td>Extended</td>\n",
       "      <td>Bachelor</td>\n",
       "      <td>2011-02-06</td>\n",
       "      <td>Employed</td>\n",
       "      <td>F</td>\n",
       "      <td>39837</td>\n",
       "      <td>Rural</td>\n",
       "      <td>...</td>\n",
       "      <td>0.0</td>\n",
       "      <td>2</td>\n",
       "      <td>Corporate Auto</td>\n",
       "      <td>Corporate L3</td>\n",
       "      <td>Offer1</td>\n",
       "      <td>Web</td>\n",
       "      <td>381.306996</td>\n",
       "      <td>Luxury Car</td>\n",
       "      <td>Medsize</td>\n",
       "      <td>2</td>\n",
       "    </tr>\n",
       "    <tr>\n",
       "      <th>10871</th>\n",
       "      <td>California</td>\n",
       "      <td>11971.977650</td>\n",
       "      <td>No</td>\n",
       "      <td>Premium</td>\n",
       "      <td>College</td>\n",
       "      <td>2011-02-13</td>\n",
       "      <td>Employed</td>\n",
       "      <td>F</td>\n",
       "      <td>64195</td>\n",
       "      <td>Urban</td>\n",
       "      <td>...</td>\n",
       "      <td>4.0</td>\n",
       "      <td>6</td>\n",
       "      <td>Personal Auto</td>\n",
       "      <td>Personal L1</td>\n",
       "      <td>Offer1</td>\n",
       "      <td>Branch</td>\n",
       "      <td>618.288849</td>\n",
       "      <td>SUV</td>\n",
       "      <td>Medsize</td>\n",
       "      <td>2</td>\n",
       "    </tr>\n",
       "    <tr>\n",
       "      <th>10872</th>\n",
       "      <td>Other State</td>\n",
       "      <td>6857.519928</td>\n",
       "      <td>No</td>\n",
       "      <td>Basic</td>\n",
       "      <td>Bachelor</td>\n",
       "      <td>2011-01-08</td>\n",
       "      <td>Unemployed</td>\n",
       "      <td>M</td>\n",
       "      <td>0</td>\n",
       "      <td>Suburban</td>\n",
       "      <td>...</td>\n",
       "      <td>0.0</td>\n",
       "      <td>3</td>\n",
       "      <td>Personal Auto</td>\n",
       "      <td>Personal L1</td>\n",
       "      <td>Offer4</td>\n",
       "      <td>Web</td>\n",
       "      <td>1021.719397</td>\n",
       "      <td>SUV</td>\n",
       "      <td>Medsize</td>\n",
       "      <td>1</td>\n",
       "    </tr>\n",
       "  </tbody>\n",
       "</table>\n",
       "<p>10873 rows × 24 columns</p>\n",
       "</div>"
      ],
      "text/plain": [
       "             state  customer_lifetime_value response  coverage education  \\\n",
       "0          Arizona              4809.216960       No     Basic   College   \n",
       "1       California              2228.525238       No     Basic   College   \n",
       "2       Washington             14947.917300       No     Basic  Bachelor   \n",
       "3           Oregon             22332.439460      Yes  Extended   College   \n",
       "4           Oregon              9025.067525       No   Premium  Bachelor   \n",
       "...            ...                      ...      ...       ...       ...   \n",
       "10868       Nevada             15563.369440       No   Premium  Bachelor   \n",
       "10869       Oregon              5259.444853       No     Basic   College   \n",
       "10870      Arizona             23893.304100       No  Extended  Bachelor   \n",
       "10871   California             11971.977650       No   Premium   College   \n",
       "10872  Other State              6857.519928       No     Basic  Bachelor   \n",
       "\n",
       "      effective_to_date employmentstatus gender  income location_code  ...  \\\n",
       "0            2011-02-18         Employed      M   48029      Suburban  ...   \n",
       "1            2011-01-18       Unemployed      F       0      Suburban  ...   \n",
       "2            2011-02-10         Employed      M   22139      Suburban  ...   \n",
       "3            2011-01-11         Employed      M   49078      Suburban  ...   \n",
       "4            2011-01-17    Medical Leave      F   23675      Suburban  ...   \n",
       "...                 ...              ...    ...     ...           ...  ...   \n",
       "10868        2011-01-19       Unemployed      F       0      Suburban  ...   \n",
       "10869        2011-01-06         Employed      F   61146         Urban  ...   \n",
       "10870        2011-02-06         Employed      F   39837         Rural  ...   \n",
       "10871        2011-02-13         Employed      F   64195         Urban  ...   \n",
       "10872        2011-01-08       Unemployed      M       0      Suburban  ...   \n",
       "\n",
       "      number_of_open_complaints  number_of_policies     policy_type  \\\n",
       "0                           0.0                   9  Corporate Auto   \n",
       "1                           0.0                   1   Personal Auto   \n",
       "2                           0.0                   2   Personal Auto   \n",
       "3                           0.0                   2  Corporate Auto   \n",
       "4                           0.0                   7   Personal Auto   \n",
       "...                         ...                 ...             ...   \n",
       "10868                       0.0                   7   Personal Auto   \n",
       "10869                       0.0                   6   Personal Auto   \n",
       "10870                       0.0                   2  Corporate Auto   \n",
       "10871                       4.0                   6   Personal Auto   \n",
       "10872                       0.0                   3   Personal Auto   \n",
       "\n",
       "             policy  renew_offer_type  sales_channel total_claim_amount  \\\n",
       "0      Corporate L3            Offer3          Agent         292.800000   \n",
       "1       Personal L3            Offer4    Call Center         744.924331   \n",
       "2       Personal L3            Offer3    Call Center         480.000000   \n",
       "3      Corporate L3            Offer2         Branch         484.013411   \n",
       "4       Personal L2            Offer1         Branch         707.925645   \n",
       "...             ...               ...            ...                ...   \n",
       "10868   Personal L1            Offer3            Web        1214.400000   \n",
       "10869   Personal L3            Offer2         Branch         273.018929   \n",
       "10870  Corporate L3            Offer1            Web         381.306996   \n",
       "10871   Personal L1            Offer1         Branch         618.288849   \n",
       "10872   Personal L1            Offer4            Web        1021.719397   \n",
       "\n",
       "       vehicle_class vehicle_size month  \n",
       "0      Four-Door Car      Medsize     2  \n",
       "1      Four-Door Car      Medsize     1  \n",
       "2                SUV      Medsize     2  \n",
       "3      Four-Door Car      Medsize     1  \n",
       "4      Four-Door Car      Medsize     1  \n",
       "...              ...          ...   ...  \n",
       "10868     Luxury Car      Medsize     1  \n",
       "10869  Four-Door Car      Medsize     1  \n",
       "10870     Luxury Car      Medsize     2  \n",
       "10871            SUV      Medsize     2  \n",
       "10872            SUV      Medsize     1  \n",
       "\n",
       "[10873 rows x 24 columns]"
      ]
     },
     "execution_count": 21,
     "metadata": {},
     "output_type": "execute_result"
    }
   ],
   "source": [
    "#funtion to fill Nan's into X with Y value, default value is 0\n",
    "def null_replace(x, y=0):\n",
    "    return x.fillna(y)\n",
    "\n",
    "#funtion to transform X datatype to datetime\n",
    "def force_date(x):\n",
    "    return pd.to_datetime(x, errors='coerce')\n",
    "\n",
    "#funtion standardize column names to default python snake form, Y parameter can be changed to a diferent disered value\n",
    "def std_data(x, y='_'):\n",
    "#     x.columns = [e.lower().replace(' ','_' for e in x)]\n",
    "    x.columns = list(map(lambda el: el.lower().replace(' ',y), x))\n",
    "    return x.drop(['unnamed:_0'], axis=1)\n",
    "\n",
    "#Main operations funtion\n",
    "def data_crunch(dataset):\n",
    "\n",
    "    #Standardizing dataset\n",
    "    dataset = std_data(dataset)\n",
    "    \n",
    "    #printing numerical and categorical columns\n",
    "    print('Numerical Columns \\n', list(dataset.select_dtypes(np.number).columns), '\\n')\n",
    "    print('Categorical Columns: \\n', list(dataset.select_dtypes(['object']).columns))\n",
    "    \n",
    "    #Trating Nan Values and droping empty rows, and not usefull rows\n",
    "    dataset = dataset.drop_duplicates()\n",
    "    dataset['response'] = null_replace(dataset['response'],'No')\n",
    "    dataset['months_since_last_claim'] = null_replace(dataset['months_since_last_claim'])\n",
    "    dataset['number_of_open_complaints'] = null_replace(dataset['number_of_open_complaints'])\n",
    "    \n",
    "    dataset = dataset.drop(['customer', 'vehicle_type'], axis=1)\n",
    "    \n",
    "    dataset['vehicle_size'] = null_replace(dataset['vehicle_size'],'Medsize')\n",
    "    dataset['vehicle_class'] = null_replace(dataset['vehicle_class'],'Four-Door Car')\n",
    "    dataset['state'] = null_replace(dataset['state'],'Other State')\n",
    "    \n",
    "    dataset['vehicle_class'] = dataset['vehicle_class'].replace(['Sports Car','Luxury SUV'],'Luxury Car')\n",
    "    \n",
    "    \n",
    "    #Fixing the efective to date column data type and adding a column with the months\n",
    "    dataset['effective_to_date'] = force_date(dataset['effective_to_date'])\n",
    "    dataset['month'] = pd.DatetimeIndex(dataset['effective_to_date']).month\n",
    "    \n",
    "    #reseting the dataset\n",
    "    dataset = dataset.reset_index(drop=True)\n",
    "    \n",
    "    return dataset\n",
    "\n",
    "data = pd.read_csv('marketing_customer_analysis.csv')\n",
    "data = data_crunch(data)\n",
    "\n",
    "data[(data['month'].isin([1,2,3]))]\n"
   ]
  },
  {
   "cell_type": "markdown",
   "id": "54eb34a3",
   "metadata": {},
   "source": [
    "# Round 3"
   ]
  },
  {
   "cell_type": "markdown",
   "id": "79d41fae",
   "metadata": {},
   "source": [
    "Showing data frame info"
   ]
  },
  {
   "cell_type": "code",
   "execution_count": 22,
   "id": "39a1bb82",
   "metadata": {
    "scrolled": false
   },
   "outputs": [
    {
     "name": "stdout",
     "output_type": "stream",
     "text": [
      "<class 'pandas.core.frame.DataFrame'>\n",
      "RangeIndex: 10873 entries, 0 to 10872\n",
      "Data columns (total 24 columns):\n",
      " #   Column                         Non-Null Count  Dtype         \n",
      "---  ------                         --------------  -----         \n",
      " 0   state                          10873 non-null  object        \n",
      " 1   customer_lifetime_value        10873 non-null  float64       \n",
      " 2   response                       10873 non-null  object        \n",
      " 3   coverage                       10873 non-null  object        \n",
      " 4   education                      10873 non-null  object        \n",
      " 5   effective_to_date              10873 non-null  datetime64[ns]\n",
      " 6   employmentstatus               10873 non-null  object        \n",
      " 7   gender                         10873 non-null  object        \n",
      " 8   income                         10873 non-null  int64         \n",
      " 9   location_code                  10873 non-null  object        \n",
      " 10  marital_status                 10873 non-null  object        \n",
      " 11  monthly_premium_auto           10873 non-null  int64         \n",
      " 12  months_since_last_claim        10873 non-null  float64       \n",
      " 13  months_since_policy_inception  10873 non-null  int64         \n",
      " 14  number_of_open_complaints      10873 non-null  float64       \n",
      " 15  number_of_policies             10873 non-null  int64         \n",
      " 16  policy_type                    10873 non-null  object        \n",
      " 17  policy                         10873 non-null  object        \n",
      " 18  renew_offer_type               10873 non-null  object        \n",
      " 19  sales_channel                  10873 non-null  object        \n",
      " 20  total_claim_amount             10873 non-null  float64       \n",
      " 21  vehicle_class                  10873 non-null  object        \n",
      " 22  vehicle_size                   10873 non-null  object        \n",
      " 23  month                          10873 non-null  int64         \n",
      "dtypes: datetime64[ns](1), float64(4), int64(5), object(14)\n",
      "memory usage: 2.0+ MB\n"
     ]
    }
   ],
   "source": [
    "data.info()"
   ]
  },
  {
   "cell_type": "markdown",
   "id": "b5488e33",
   "metadata": {},
   "source": [
    "Describing the data frame, in transposed form for easier reading"
   ]
  },
  {
   "cell_type": "code",
   "execution_count": 23,
   "id": "b6f227c8",
   "metadata": {},
   "outputs": [
    {
     "data": {
      "text/html": [
       "<div>\n",
       "<style scoped>\n",
       "    .dataframe tbody tr th:only-of-type {\n",
       "        vertical-align: middle;\n",
       "    }\n",
       "\n",
       "    .dataframe tbody tr th {\n",
       "        vertical-align: top;\n",
       "    }\n",
       "\n",
       "    .dataframe thead th {\n",
       "        text-align: right;\n",
       "    }\n",
       "</style>\n",
       "<table border=\"1\" class=\"dataframe\">\n",
       "  <thead>\n",
       "    <tr style=\"text-align: right;\">\n",
       "      <th></th>\n",
       "      <th>count</th>\n",
       "      <th>mean</th>\n",
       "      <th>std</th>\n",
       "      <th>min</th>\n",
       "      <th>25%</th>\n",
       "      <th>50%</th>\n",
       "      <th>75%</th>\n",
       "      <th>max</th>\n",
       "    </tr>\n",
       "  </thead>\n",
       "  <tbody>\n",
       "    <tr>\n",
       "      <th>customer_lifetime_value</th>\n",
       "      <td>10873.0</td>\n",
       "      <td>8016.881720</td>\n",
       "      <td>6884.829202</td>\n",
       "      <td>1898.007675</td>\n",
       "      <td>4014.453113</td>\n",
       "      <td>5768.830622</td>\n",
       "      <td>8996.774075</td>\n",
       "      <td>83325.381190</td>\n",
       "    </tr>\n",
       "    <tr>\n",
       "      <th>income</th>\n",
       "      <td>10873.0</td>\n",
       "      <td>37537.101444</td>\n",
       "      <td>30362.078350</td>\n",
       "      <td>0.000000</td>\n",
       "      <td>0.000000</td>\n",
       "      <td>33811.000000</td>\n",
       "      <td>62262.000000</td>\n",
       "      <td>99981.000000</td>\n",
       "    </tr>\n",
       "    <tr>\n",
       "      <th>monthly_premium_auto</th>\n",
       "      <td>10873.0</td>\n",
       "      <td>93.216684</td>\n",
       "      <td>34.454801</td>\n",
       "      <td>61.000000</td>\n",
       "      <td>68.000000</td>\n",
       "      <td>83.000000</td>\n",
       "      <td>109.000000</td>\n",
       "      <td>298.000000</td>\n",
       "    </tr>\n",
       "    <tr>\n",
       "      <th>months_since_last_claim</th>\n",
       "      <td>10873.0</td>\n",
       "      <td>14.277292</td>\n",
       "      <td>10.399697</td>\n",
       "      <td>0.000000</td>\n",
       "      <td>5.000000</td>\n",
       "      <td>13.000000</td>\n",
       "      <td>23.000000</td>\n",
       "      <td>35.000000</td>\n",
       "    </tr>\n",
       "    <tr>\n",
       "      <th>months_since_policy_inception</th>\n",
       "      <td>10873.0</td>\n",
       "      <td>48.098777</td>\n",
       "      <td>27.929932</td>\n",
       "      <td>0.000000</td>\n",
       "      <td>24.000000</td>\n",
       "      <td>48.000000</td>\n",
       "      <td>71.000000</td>\n",
       "      <td>99.000000</td>\n",
       "    </tr>\n",
       "    <tr>\n",
       "      <th>number_of_open_complaints</th>\n",
       "      <td>10873.0</td>\n",
       "      <td>0.361538</td>\n",
       "      <td>0.889177</td>\n",
       "      <td>0.000000</td>\n",
       "      <td>0.000000</td>\n",
       "      <td>0.000000</td>\n",
       "      <td>0.000000</td>\n",
       "      <td>5.000000</td>\n",
       "    </tr>\n",
       "    <tr>\n",
       "      <th>number_of_policies</th>\n",
       "      <td>10873.0</td>\n",
       "      <td>2.977467</td>\n",
       "      <td>2.397752</td>\n",
       "      <td>1.000000</td>\n",
       "      <td>1.000000</td>\n",
       "      <td>2.000000</td>\n",
       "      <td>4.000000</td>\n",
       "      <td>9.000000</td>\n",
       "    </tr>\n",
       "    <tr>\n",
       "      <th>total_claim_amount</th>\n",
       "      <td>10873.0</td>\n",
       "      <td>434.902879</td>\n",
       "      <td>292.233402</td>\n",
       "      <td>0.099007</td>\n",
       "      <td>271.014511</td>\n",
       "      <td>383.363758</td>\n",
       "      <td>547.200000</td>\n",
       "      <td>2893.239678</td>\n",
       "    </tr>\n",
       "    <tr>\n",
       "      <th>month</th>\n",
       "      <td>10873.0</td>\n",
       "      <td>1.466661</td>\n",
       "      <td>0.498910</td>\n",
       "      <td>1.000000</td>\n",
       "      <td>1.000000</td>\n",
       "      <td>1.000000</td>\n",
       "      <td>2.000000</td>\n",
       "      <td>2.000000</td>\n",
       "    </tr>\n",
       "  </tbody>\n",
       "</table>\n",
       "</div>"
      ],
      "text/plain": [
       "                                 count          mean           std  \\\n",
       "customer_lifetime_value        10873.0   8016.881720   6884.829202   \n",
       "income                         10873.0  37537.101444  30362.078350   \n",
       "monthly_premium_auto           10873.0     93.216684     34.454801   \n",
       "months_since_last_claim        10873.0     14.277292     10.399697   \n",
       "months_since_policy_inception  10873.0     48.098777     27.929932   \n",
       "number_of_open_complaints      10873.0      0.361538      0.889177   \n",
       "number_of_policies             10873.0      2.977467      2.397752   \n",
       "total_claim_amount             10873.0    434.902879    292.233402   \n",
       "month                          10873.0      1.466661      0.498910   \n",
       "\n",
       "                                       min          25%           50%  \\\n",
       "customer_lifetime_value        1898.007675  4014.453113   5768.830622   \n",
       "income                            0.000000     0.000000  33811.000000   \n",
       "monthly_premium_auto             61.000000    68.000000     83.000000   \n",
       "months_since_last_claim           0.000000     5.000000     13.000000   \n",
       "months_since_policy_inception     0.000000    24.000000     48.000000   \n",
       "number_of_open_complaints         0.000000     0.000000      0.000000   \n",
       "number_of_policies                1.000000     1.000000      2.000000   \n",
       "total_claim_amount                0.099007   271.014511    383.363758   \n",
       "month                             1.000000     1.000000      1.000000   \n",
       "\n",
       "                                        75%           max  \n",
       "customer_lifetime_value         8996.774075  83325.381190  \n",
       "income                         62262.000000  99981.000000  \n",
       "monthly_premium_auto             109.000000    298.000000  \n",
       "months_since_last_claim           23.000000     35.000000  \n",
       "months_since_policy_inception     71.000000     99.000000  \n",
       "number_of_open_complaints          0.000000      5.000000  \n",
       "number_of_policies                 4.000000      9.000000  \n",
       "total_claim_amount               547.200000   2893.239678  \n",
       "month                              2.000000      2.000000  "
      ]
     },
     "execution_count": 23,
     "metadata": {},
     "output_type": "execute_result"
    }
   ],
   "source": [
    "data.describe().T"
   ]
  },
  {
   "cell_type": "markdown",
   "id": "93d495cc",
   "metadata": {},
   "source": [
    "Importing the ploting libraries"
   ]
  },
  {
   "cell_type": "code",
   "execution_count": 24,
   "id": "96ddde13",
   "metadata": {},
   "outputs": [],
   "source": [
    "import matplotlib\n",
    "import matplotlib.pyplot as plt\n",
    "import seaborn as sns \n",
    "%matplotlib inline\n",
    "\n",
    "#Setting all the figure sizes to a reasonable size\n",
    "sns.set(rc = {'figure.figsize':(8,5)})"
   ]
  },
  {
   "cell_type": "markdown",
   "id": "5d4582df",
   "metadata": {},
   "source": [
    "Total response plot "
   ]
  },
  {
   "cell_type": "code",
   "execution_count": 25,
   "id": "1798aa71",
   "metadata": {},
   "outputs": [
    {
     "data": {
      "image/png": "[encoded data removed]",
      "text/plain": [
       "<Figure size 576x360 with 1 Axes>"
      ]
     },
     "metadata": {},
     "output_type": "display_data"
    }
   ],
   "source": [
    "f_plot = data.loc[data['response'] == 'Yes', ['sales_channel', 'response']]\n",
    "lines = len(data)\n",
    "f_plot = f_plot.groupby(['sales_channel']).size().reset_index(name='counts')\n",
    "f_plot['counts'] = f_plot['counts']/lines*100\n",
    "\n",
    "\n",
    "sns.barplot(x='sales_channel', y='counts',data=f_plot, palette='rainbow')\n",
    "plt.xlabel('Sales channel')\n",
    "plt.ylabel('Response %')\n",
    "plt.title('Sales channel and response in % of the full dataset')\n",
    "plt.show()"
   ]
  },
  {
   "cell_type": "markdown",
   "id": "7d36ab87",
   "metadata": {},
   "source": [
    "Response rate by the sales channel."
   ]
  },
  {
   "cell_type": "code",
   "execution_count": 26,
   "id": "841f557b",
   "metadata": {},
   "outputs": [
    {
     "data": {
      "image/png": "[encoded data removed]",
      "text/plain": [
       "<Figure size 576x360 with 1 Axes>"
      ]
     },
     "metadata": {},
     "output_type": "display_data"
    }
   ],
   "source": [
    "data['response_rate'] = np.where(data['response'] == 'Yes',1,0)\n",
    "data.groupby('sales_channel')['response_rate'].mean().plot.bar()\n",
    "plt.show()"
   ]
  },
  {
   "cell_type": "markdown",
   "id": "069c347e",
   "metadata": {},
   "source": [
    "Response rate by income"
   ]
  },
  {
   "cell_type": "code",
   "execution_count": 27,
   "id": "ef6229aa",
   "metadata": {
    "scrolled": false
   },
   "outputs": [
    {
     "data": {
      "image/png": "[encoded data removed]",
      "text/plain": [
       "<Figure size 360x360 with 1 Axes>"
      ]
     },
     "metadata": {},
     "output_type": "display_data"
    }
   ],
   "source": [
    "sns.displot(x='income',data=data[data['response_rate']==1], palette='rainbow', bins=8)\n",
    "plt.show()"
   ]
  },
  {
   "cell_type": "markdown",
   "id": "ca202407",
   "metadata": {},
   "source": [
    "Response rate by total claim amount"
   ]
  },
  {
   "cell_type": "code",
   "execution_count": 28,
   "id": "a0cca903",
   "metadata": {
    "scrolled": false
   },
   "outputs": [
    {
     "data": {
      "image/png": "[encoded data removed]",
      "text/plain": [
       "<Figure size 360x360 with 1 Axes>"
      ]
     },
     "metadata": {},
     "output_type": "display_data"
    }
   ],
   "source": [
    "sns.displot(x='total_claim_amount',data=data[data['response_rate']==1], palette='rainbow', bins=5)\n",
    "plt.show()"
   ]
  },
  {
   "cell_type": "markdown",
   "id": "e7459206",
   "metadata": {},
   "source": [
    "# Round 4 + 5"
   ]
  },
  {
   "cell_type": "markdown",
   "id": "f3d60710",
   "metadata": {},
   "source": [
    "Complete the following task\n",
    "\n",
    "Check the data types of the columns. Get the numeric data into dataframe called numerical and categorical columns in a dataframe called categoricals.\n",
    "\n",
    "(You can use np.number and np.object to select the numerical data types and categorical data types respectively)\n",
    "   \n",
    "Now we will try to check the normality of the numerical variables visually\n",
    "Use seaborn library to construct distribution plots for the numerical variables\n",
    "Use Matplotlib to construct histograms\n",
    "Do the distributions for different numerical variables look like a normal distribution\n",
    "For the numerical variables, check the multicollinearity between the features. Please note that we will use the column total_claim_amount later as the target variable.\n",
    "Drop one of the two features that show a high correlation between them (greater than 0.9). Write code for both the correlation matrix and for seaborn heatmap. If there is no pair of features that have a high correlation, then do not drop any features\n",
    "\n",
    "X-y split.\n",
    "Normalize (numerical).\n"
   ]
  },
  {
   "cell_type": "code",
   "execution_count": 29,
   "id": "11c79050",
   "metadata": {},
   "outputs": [],
   "source": [
    "import pandas as pd\n",
    "import numpy as np\n",
    "import matplotlib.pyplot as plt\n",
    "import seaborn as sns"
   ]
  },
  {
   "cell_type": "markdown",
   "id": "abd55e06",
   "metadata": {},
   "source": [
    "Check the data types of the columns"
   ]
  },
  {
   "cell_type": "code",
   "execution_count": 30,
   "id": "969d3ac3",
   "metadata": {},
   "outputs": [
    {
     "data": {
      "text/plain": [
       "state                                    object\n",
       "customer_lifetime_value                 float64\n",
       "response                                 object\n",
       "coverage                                 object\n",
       "education                                object\n",
       "effective_to_date                datetime64[ns]\n",
       "employmentstatus                         object\n",
       "gender                                   object\n",
       "income                                    int64\n",
       "location_code                            object\n",
       "marital_status                           object\n",
       "monthly_premium_auto                      int64\n",
       "months_since_last_claim                 float64\n",
       "months_since_policy_inception             int64\n",
       "number_of_open_complaints               float64\n",
       "number_of_policies                        int64\n",
       "policy_type                              object\n",
       "policy                                   object\n",
       "renew_offer_type                         object\n",
       "sales_channel                            object\n",
       "total_claim_amount                      float64\n",
       "vehicle_class                            object\n",
       "vehicle_size                             object\n",
       "month                                     int64\n",
       "response_rate                             int32\n",
       "dtype: object"
      ]
     },
     "execution_count": 30,
     "metadata": {},
     "output_type": "execute_result"
    }
   ],
   "source": [
    "data.dtypes"
   ]
  },
  {
   "cell_type": "markdown",
   "id": "9fbe51e6",
   "metadata": {},
   "source": [
    "Droping previously created columns to graphs"
   ]
  },
  {
   "cell_type": "code",
   "execution_count": 31,
   "id": "8c00ae20",
   "metadata": {},
   "outputs": [],
   "source": [
    "data = data.drop(['response_rate'], axis=1)"
   ]
  },
  {
   "cell_type": "markdown",
   "id": "9c736784",
   "metadata": {},
   "source": [
    "Getting the numerical and categorical data into separate dataframes"
   ]
  },
  {
   "cell_type": "code",
   "execution_count": 32,
   "id": "bbed41fe",
   "metadata": {},
   "outputs": [
    {
     "data": {
      "text/html": [
       "<div>\n",
       "<style scoped>\n",
       "    .dataframe tbody tr th:only-of-type {\n",
       "        vertical-align: middle;\n",
       "    }\n",
       "\n",
       "    .dataframe tbody tr th {\n",
       "        vertical-align: top;\n",
       "    }\n",
       "\n",
       "    .dataframe thead th {\n",
       "        text-align: right;\n",
       "    }\n",
       "</style>\n",
       "<table border=\"1\" class=\"dataframe\">\n",
       "  <thead>\n",
       "    <tr style=\"text-align: right;\">\n",
       "      <th></th>\n",
       "      <th>customer_lifetime_value</th>\n",
       "      <th>income</th>\n",
       "      <th>monthly_premium_auto</th>\n",
       "      <th>months_since_last_claim</th>\n",
       "      <th>months_since_policy_inception</th>\n",
       "      <th>number_of_open_complaints</th>\n",
       "      <th>number_of_policies</th>\n",
       "      <th>total_claim_amount</th>\n",
       "      <th>month</th>\n",
       "    </tr>\n",
       "  </thead>\n",
       "  <tbody>\n",
       "    <tr>\n",
       "      <th>0</th>\n",
       "      <td>4809.216960</td>\n",
       "      <td>48029</td>\n",
       "      <td>61</td>\n",
       "      <td>7.0</td>\n",
       "      <td>52</td>\n",
       "      <td>0.0</td>\n",
       "      <td>9</td>\n",
       "      <td>292.800000</td>\n",
       "      <td>2</td>\n",
       "    </tr>\n",
       "    <tr>\n",
       "      <th>1</th>\n",
       "      <td>2228.525238</td>\n",
       "      <td>0</td>\n",
       "      <td>64</td>\n",
       "      <td>3.0</td>\n",
       "      <td>26</td>\n",
       "      <td>0.0</td>\n",
       "      <td>1</td>\n",
       "      <td>744.924331</td>\n",
       "      <td>1</td>\n",
       "    </tr>\n",
       "    <tr>\n",
       "      <th>2</th>\n",
       "      <td>14947.917300</td>\n",
       "      <td>22139</td>\n",
       "      <td>100</td>\n",
       "      <td>34.0</td>\n",
       "      <td>31</td>\n",
       "      <td>0.0</td>\n",
       "      <td>2</td>\n",
       "      <td>480.000000</td>\n",
       "      <td>2</td>\n",
       "    </tr>\n",
       "    <tr>\n",
       "      <th>3</th>\n",
       "      <td>22332.439460</td>\n",
       "      <td>49078</td>\n",
       "      <td>97</td>\n",
       "      <td>10.0</td>\n",
       "      <td>3</td>\n",
       "      <td>0.0</td>\n",
       "      <td>2</td>\n",
       "      <td>484.013411</td>\n",
       "      <td>1</td>\n",
       "    </tr>\n",
       "    <tr>\n",
       "      <th>4</th>\n",
       "      <td>9025.067525</td>\n",
       "      <td>23675</td>\n",
       "      <td>117</td>\n",
       "      <td>0.0</td>\n",
       "      <td>31</td>\n",
       "      <td>0.0</td>\n",
       "      <td>7</td>\n",
       "      <td>707.925645</td>\n",
       "      <td>1</td>\n",
       "    </tr>\n",
       "  </tbody>\n",
       "</table>\n",
       "</div>"
      ],
      "text/plain": [
       "   customer_lifetime_value  income  monthly_premium_auto  \\\n",
       "0              4809.216960   48029                    61   \n",
       "1              2228.525238       0                    64   \n",
       "2             14947.917300   22139                   100   \n",
       "3             22332.439460   49078                    97   \n",
       "4              9025.067525   23675                   117   \n",
       "\n",
       "   months_since_last_claim  months_since_policy_inception  \\\n",
       "0                      7.0                             52   \n",
       "1                      3.0                             26   \n",
       "2                     34.0                             31   \n",
       "3                     10.0                              3   \n",
       "4                      0.0                             31   \n",
       "\n",
       "   number_of_open_complaints  number_of_policies  total_claim_amount  month  \n",
       "0                        0.0                   9          292.800000      2  \n",
       "1                        0.0                   1          744.924331      1  \n",
       "2                        0.0                   2          480.000000      2  \n",
       "3                        0.0                   2          484.013411      1  \n",
       "4                        0.0                   7          707.925645      1  "
      ]
     },
     "execution_count": 32,
     "metadata": {},
     "output_type": "execute_result"
    }
   ],
   "source": [
    "numerical = data.select_dtypes(np.number)\n",
    "categorical = data.select_dtypes('object')\n",
    "\n",
    "numerical.head()"
   ]
  },
  {
   "cell_type": "markdown",
   "id": "8c908852",
   "metadata": {},
   "source": [
    "Checking the normality of values"
   ]
  },
  {
   "cell_type": "code",
   "execution_count": 33,
   "id": "4a57963a",
   "metadata": {},
   "outputs": [
    {
     "data": {
      "text/html": [
       "<div>\n",
       "<style scoped>\n",
       "    .dataframe tbody tr th:only-of-type {\n",
       "        vertical-align: middle;\n",
       "    }\n",
       "\n",
       "    .dataframe tbody tr th {\n",
       "        vertical-align: top;\n",
       "    }\n",
       "\n",
       "    .dataframe thead th {\n",
       "        text-align: right;\n",
       "    }\n",
       "</style>\n",
       "<table border=\"1\" class=\"dataframe\">\n",
       "  <thead>\n",
       "    <tr style=\"text-align: right;\">\n",
       "      <th></th>\n",
       "      <th>count</th>\n",
       "      <th>mean</th>\n",
       "      <th>std</th>\n",
       "      <th>min</th>\n",
       "      <th>25%</th>\n",
       "      <th>50%</th>\n",
       "      <th>75%</th>\n",
       "      <th>max</th>\n",
       "    </tr>\n",
       "  </thead>\n",
       "  <tbody>\n",
       "    <tr>\n",
       "      <th>customer_lifetime_value</th>\n",
       "      <td>10873.0</td>\n",
       "      <td>8016.881720</td>\n",
       "      <td>6884.829202</td>\n",
       "      <td>1898.007675</td>\n",
       "      <td>4014.453113</td>\n",
       "      <td>5768.830622</td>\n",
       "      <td>8996.774075</td>\n",
       "      <td>83325.381190</td>\n",
       "    </tr>\n",
       "    <tr>\n",
       "      <th>income</th>\n",
       "      <td>10873.0</td>\n",
       "      <td>37537.101444</td>\n",
       "      <td>30362.078350</td>\n",
       "      <td>0.000000</td>\n",
       "      <td>0.000000</td>\n",
       "      <td>33811.000000</td>\n",
       "      <td>62262.000000</td>\n",
       "      <td>99981.000000</td>\n",
       "    </tr>\n",
       "    <tr>\n",
       "      <th>monthly_premium_auto</th>\n",
       "      <td>10873.0</td>\n",
       "      <td>93.216684</td>\n",
       "      <td>34.454801</td>\n",
       "      <td>61.000000</td>\n",
       "      <td>68.000000</td>\n",
       "      <td>83.000000</td>\n",
       "      <td>109.000000</td>\n",
       "      <td>298.000000</td>\n",
       "    </tr>\n",
       "    <tr>\n",
       "      <th>months_since_last_claim</th>\n",
       "      <td>10873.0</td>\n",
       "      <td>14.277292</td>\n",
       "      <td>10.399697</td>\n",
       "      <td>0.000000</td>\n",
       "      <td>5.000000</td>\n",
       "      <td>13.000000</td>\n",
       "      <td>23.000000</td>\n",
       "      <td>35.000000</td>\n",
       "    </tr>\n",
       "    <tr>\n",
       "      <th>months_since_policy_inception</th>\n",
       "      <td>10873.0</td>\n",
       "      <td>48.098777</td>\n",
       "      <td>27.929932</td>\n",
       "      <td>0.000000</td>\n",
       "      <td>24.000000</td>\n",
       "      <td>48.000000</td>\n",
       "      <td>71.000000</td>\n",
       "      <td>99.000000</td>\n",
       "    </tr>\n",
       "    <tr>\n",
       "      <th>number_of_open_complaints</th>\n",
       "      <td>10873.0</td>\n",
       "      <td>0.361538</td>\n",
       "      <td>0.889177</td>\n",
       "      <td>0.000000</td>\n",
       "      <td>0.000000</td>\n",
       "      <td>0.000000</td>\n",
       "      <td>0.000000</td>\n",
       "      <td>5.000000</td>\n",
       "    </tr>\n",
       "    <tr>\n",
       "      <th>number_of_policies</th>\n",
       "      <td>10873.0</td>\n",
       "      <td>2.977467</td>\n",
       "      <td>2.397752</td>\n",
       "      <td>1.000000</td>\n",
       "      <td>1.000000</td>\n",
       "      <td>2.000000</td>\n",
       "      <td>4.000000</td>\n",
       "      <td>9.000000</td>\n",
       "    </tr>\n",
       "    <tr>\n",
       "      <th>total_claim_amount</th>\n",
       "      <td>10873.0</td>\n",
       "      <td>434.902879</td>\n",
       "      <td>292.233402</td>\n",
       "      <td>0.099007</td>\n",
       "      <td>271.014511</td>\n",
       "      <td>383.363758</td>\n",
       "      <td>547.200000</td>\n",
       "      <td>2893.239678</td>\n",
       "    </tr>\n",
       "    <tr>\n",
       "      <th>month</th>\n",
       "      <td>10873.0</td>\n",
       "      <td>1.466661</td>\n",
       "      <td>0.498910</td>\n",
       "      <td>1.000000</td>\n",
       "      <td>1.000000</td>\n",
       "      <td>1.000000</td>\n",
       "      <td>2.000000</td>\n",
       "      <td>2.000000</td>\n",
       "    </tr>\n",
       "  </tbody>\n",
       "</table>\n",
       "</div>"
      ],
      "text/plain": [
       "                                 count          mean           std  \\\n",
       "customer_lifetime_value        10873.0   8016.881720   6884.829202   \n",
       "income                         10873.0  37537.101444  30362.078350   \n",
       "monthly_premium_auto           10873.0     93.216684     34.454801   \n",
       "months_since_last_claim        10873.0     14.277292     10.399697   \n",
       "months_since_policy_inception  10873.0     48.098777     27.929932   \n",
       "number_of_open_complaints      10873.0      0.361538      0.889177   \n",
       "number_of_policies             10873.0      2.977467      2.397752   \n",
       "total_claim_amount             10873.0    434.902879    292.233402   \n",
       "month                          10873.0      1.466661      0.498910   \n",
       "\n",
       "                                       min          25%           50%  \\\n",
       "customer_lifetime_value        1898.007675  4014.453113   5768.830622   \n",
       "income                            0.000000     0.000000  33811.000000   \n",
       "monthly_premium_auto             61.000000    68.000000     83.000000   \n",
       "months_since_last_claim           0.000000     5.000000     13.000000   \n",
       "months_since_policy_inception     0.000000    24.000000     48.000000   \n",
       "number_of_open_complaints         0.000000     0.000000      0.000000   \n",
       "number_of_policies                1.000000     1.000000      2.000000   \n",
       "total_claim_amount                0.099007   271.014511    383.363758   \n",
       "month                             1.000000     1.000000      1.000000   \n",
       "\n",
       "                                        75%           max  \n",
       "customer_lifetime_value         8996.774075  83325.381190  \n",
       "income                         62262.000000  99981.000000  \n",
       "monthly_premium_auto             109.000000    298.000000  \n",
       "months_since_last_claim           23.000000     35.000000  \n",
       "months_since_policy_inception     71.000000     99.000000  \n",
       "number_of_open_complaints          0.000000      5.000000  \n",
       "number_of_policies                 4.000000      9.000000  \n",
       "total_claim_amount               547.200000   2893.239678  \n",
       "month                              2.000000      2.000000  "
      ]
     },
     "execution_count": 33,
     "metadata": {},
     "output_type": "execute_result"
    }
   ],
   "source": [
    "numerical.describe().T"
   ]
  },
  {
   "cell_type": "markdown",
   "id": "cba0160c",
   "metadata": {},
   "source": [
    "As we can observe total_claim_amount, customer_lifetime_value have massive ranges so we have to address this later with MinMaxScaller method."
   ]
  },
  {
   "cell_type": "markdown",
   "id": "7f4302a2",
   "metadata": {},
   "source": [
    "Distribution plots for the numerical variables"
   ]
  },
  {
   "cell_type": "code",
   "execution_count": 34,
   "id": "81c5d24e",
   "metadata": {
    "scrolled": false
   },
   "outputs": [
    {
     "data": {
      "image/png": "[encoded data removed]",
      "text/plain": [
       "<Figure size 360x360 with 1 Axes>"
      ]
     },
     "metadata": {},
     "output_type": "display_data"
    },
    {
     "data": {
      "image/png": "[encoded data removed]",
      "text/plain": [
       "<Figure size 360x360 with 1 Axes>"
      ]
     },
     "metadata": {},
     "output_type": "display_data"
    },
    {
     "data": {
      "image/png": "[encoded data removed]",
      "text/plain": [
       "<Figure size 360x360 with 1 Axes>"
      ]
     },
     "metadata": {},
     "output_type": "display_data"
    },
    {
     "data": {
      "image/png": "[encoded data removed]",
      "text/plain": [
       "<Figure size 360x360 with 1 Axes>"
      ]
     },
     "metadata": {},
     "output_type": "display_data"
    },
    {
     "data": {
      "image/png": "[encoded data removed]",
      "text/plain": [
       "<Figure size 360x360 with 1 Axes>"
      ]
     },
     "metadata": {},
     "output_type": "display_data"
    },
    {
     "data": {
      "image/png": "[encoded data removed]",
      "text/plain": [
       "<Figure size 360x360 with 1 Axes>"
      ]
     },
     "metadata": {},
     "output_type": "display_data"
    },
    {
     "data": {
      "image/png": "[encoded data removed]",
      "text/plain": [
       "<Figure size 360x360 with 1 Axes>"
      ]
     },
     "metadata": {},
     "output_type": "display_data"
    },
    {
     "data": {
      "image/png": "[encoded data removed]",
      "text/plain": [
       "<Figure size 360x360 with 1 Axes>"
      ]
     },
     "metadata": {},
     "output_type": "display_data"
    },
    {
     "data": {
      "image/png": "[encoded data removed]",
      "text/plain": [
       "<Figure size 360x360 with 1 Axes>"
      ]
     },
     "metadata": {},
     "output_type": "display_data"
    }
   ],
   "source": [
    "for i, column in enumerate(numerical.columns, 1):\n",
    "    sns.displot(numerical[column])"
   ]
  },
  {
   "cell_type": "markdown",
   "id": "983fc820",
   "metadata": {},
   "source": [
    "Checking the graphs while aplying the standard trimms of values using the percentiles"
   ]
  },
  {
   "cell_type": "code",
   "execution_count": 42,
   "id": "ec538b11",
   "metadata": {
    "scrolled": false
   },
   "outputs": [
    {
     "name": "stdout",
     "output_type": "stream",
     "text": [
      "Trimming simulation for the common quartile values of customer_lifetime_value\n"
     ]
    },
    {
     "data": {
      "image/png": "[encoded data removed]",
      "text/plain": [
       "<Figure size 360x360 with 1 Axes>"
      ]
     },
     "metadata": {},
     "output_type": "display_data"
    },
    {
     "data": {
      "image/png": "[encoded data removed]",
      "text/plain": [
       "<Figure size 576x360 with 1 Axes>"
      ]
     },
     "metadata": {},
     "output_type": "display_data"
    },
    {
     "name": "stdout",
     "output_type": "stream",
     "text": [
      "Trimming simulation for the common quartile values of income\n"
     ]
    },
    {
     "data": {
      "image/png": "[encoded data removed]",
      "text/plain": [
       "<Figure size 360x360 with 1 Axes>"
      ]
     },
     "metadata": {},
     "output_type": "display_data"
    },
    {
     "data": {
      "image/png": "[encoded data removed]",
      "text/plain": [
       "<Figure size 576x360 with 1 Axes>"
      ]
     },
     "metadata": {},
     "output_type": "display_data"
    },
    {
     "name": "stdout",
     "output_type": "stream",
     "text": [
      "Trimming simulation for the common quartile values of monthly_premium_auto\n"
     ]
    },
    {
     "data": {
      "image/png": "[encoded data removed]",
      "text/plain": [
       "<Figure size 360x360 with 1 Axes>"
      ]
     },
     "metadata": {},
     "output_type": "display_data"
    },
    {
     "data": {
      "image/png": "[encoded data removed]",
      "text/plain": [
       "<Figure size 576x360 with 1 Axes>"
      ]
     },
     "metadata": {},
     "output_type": "display_data"
    },
    {
     "name": "stdout",
     "output_type": "stream",
     "text": [
      "Trimming simulation for the common quartile values of months_since_last_claim\n"
     ]
    },
    {
     "data": {
      "image/png": "[encoded data removed]",
      "text/plain": [
       "<Figure size 360x360 with 1 Axes>"
      ]
     },
     "metadata": {},
     "output_type": "display_data"
    },
    {
     "data": {
      "image/png": "[encoded data removed]",
      "text/plain": [
       "<Figure size 576x360 with 1 Axes>"
      ]
     },
     "metadata": {},
     "output_type": "display_data"
    },
    {
     "name": "stdout",
     "output_type": "stream",
     "text": [
      "Trimming simulation for the common quartile values of months_since_policy_inception\n"
     ]
    },
    {
     "data": {
      "image/png": "[encoded data removed]",
      "text/plain": [
       "<Figure size 360x360 with 1 Axes>"
      ]
     },
     "metadata": {},
     "output_type": "display_data"
    },
    {
     "data": {
      "image/png": "[encoded data removed]",
      "text/plain": [
       "<Figure size 576x360 with 1 Axes>"
      ]
     },
     "metadata": {},
     "output_type": "display_data"
    },
    {
     "name": "stdout",
     "output_type": "stream",
     "text": [
      "Trimming simulation for the common quartile values of number_of_open_complaints\n"
     ]
    },
    {
     "data": {
      "image/png": "[encoded data removed]",
      "text/plain": [
       "<Figure size 360x360 with 1 Axes>"
      ]
     },
     "metadata": {},
     "output_type": "display_data"
    },
    {
     "data": {
      "image/png": "[encoded data removed]",
      "text/plain": [
       "<Figure size 576x360 with 1 Axes>"
      ]
     },
     "metadata": {},
     "output_type": "display_data"
    },
    {
     "name": "stdout",
     "output_type": "stream",
     "text": [
      "Trimming simulation for the common quartile values of number_of_policies\n"
     ]
    },
    {
     "data": {
      "image/png": "[encoded data removed]",
      "text/plain": [
       "<Figure size 360x360 with 1 Axes>"
      ]
     },
     "metadata": {},
     "output_type": "display_data"
    },
    {
     "data": {
      "image/png": "[encoded data removed]",
      "text/plain": [
       "<Figure size 576x360 with 1 Axes>"
      ]
     },
     "metadata": {},
     "output_type": "display_data"
    },
    {
     "name": "stdout",
     "output_type": "stream",
     "text": [
      "Trimming simulation for the common quartile values of total_claim_amount\n"
     ]
    },
    {
     "data": {
      "image/png": "[encoded data removed]",
      "text/plain": [
       "<Figure size 360x360 with 1 Axes>"
      ]
     },
     "metadata": {},
     "output_type": "display_data"
    },
    {
     "data": {
      "image/png": "[encoded data removed]",
      "text/plain": [
       "<Figure size 576x360 with 1 Axes>"
      ]
     },
     "metadata": {},
     "output_type": "display_data"
    },
    {
     "name": "stdout",
     "output_type": "stream",
     "text": [
      "Trimming simulation for the common quartile values of month\n"
     ]
    },
    {
     "data": {
      "image/png": "[encoded data removed]",
      "text/plain": [
       "<Figure size 360x360 with 1 Axes>"
      ]
     },
     "metadata": {},
     "output_type": "display_data"
    },
    {
     "data": {
      "image/png": "[encoded data removed]",
      "text/plain": [
       "<Figure size 576x360 with 1 Axes>"
      ]
     },
     "metadata": {},
     "output_type": "display_data"
    }
   ],
   "source": [
    "for column in numerical.columns:   \n",
    "    iqr = np.percentile(numerical[column],75) - np.percentile(numerical[column],25)\n",
    "    data2 = numerical[(numerical[column]>np.percentile(numerical[column],25) - 1*iqr) & (numerical[column]<np.percentile(numerical[column],75) + 1*iqr)].copy()\n",
    "    print('Trimming simulation for the common quartile values of', column)\n",
    "    sns.displot(data2[column])\n",
    "    plt.show()\n",
    "    sns.boxplot(x=numerical[column])\n",
    "    plt.show()\n"
   ]
  },
  {
   "cell_type": "markdown",
   "id": "7045f930",
   "metadata": {},
   "source": [
    "Evaluating the histograms as requested"
   ]
  },
  {
   "cell_type": "code",
   "execution_count": 36,
   "id": "ad9e1b4e",
   "metadata": {
    "scrolled": false
   },
   "outputs": [
    {
     "data": {
      "image/png": "[encoded data removed]",
      "text/plain": [
       "<Figure size 2160x1800 with 9 Axes>"
      ]
     },
     "metadata": {},
     "output_type": "display_data"
    }
   ],
   "source": [
    "numerical.hist(bins=20, figsize=(30, 25))\n",
    "plt.show()"
   ]
  },
  {
   "cell_type": "markdown",
   "id": "90973455",
   "metadata": {},
   "source": [
    "I decided upon analysis to trim outliers of monthly premium auto because it has an aparent correlation with our target and the outlier aren't meaningfull, also not even include the month."
   ]
  },
  {
   "cell_type": "code",
   "execution_count": 37,
   "id": "e992c28d",
   "metadata": {},
   "outputs": [
    {
     "data": {
      "text/html": [
       "<div>\n",
       "<style scoped>\n",
       "    .dataframe tbody tr th:only-of-type {\n",
       "        vertical-align: middle;\n",
       "    }\n",
       "\n",
       "    .dataframe tbody tr th {\n",
       "        vertical-align: top;\n",
       "    }\n",
       "\n",
       "    .dataframe thead th {\n",
       "        text-align: right;\n",
       "    }\n",
       "</style>\n",
       "<table border=\"1\" class=\"dataframe\">\n",
       "  <thead>\n",
       "    <tr style=\"text-align: right;\">\n",
       "      <th></th>\n",
       "      <th>count</th>\n",
       "      <th>mean</th>\n",
       "      <th>std</th>\n",
       "      <th>min</th>\n",
       "      <th>25%</th>\n",
       "      <th>50%</th>\n",
       "      <th>75%</th>\n",
       "      <th>max</th>\n",
       "    </tr>\n",
       "  </thead>\n",
       "  <tbody>\n",
       "    <tr>\n",
       "      <th>customer_lifetime_value</th>\n",
       "      <td>10259.0</td>\n",
       "      <td>7537.090241</td>\n",
       "      <td>6129.875339</td>\n",
       "      <td>1898.007675</td>\n",
       "      <td>3870.715367</td>\n",
       "      <td>5560.278162</td>\n",
       "      <td>8641.288305</td>\n",
       "      <td>51016.067040</td>\n",
       "    </tr>\n",
       "    <tr>\n",
       "      <th>income</th>\n",
       "      <td>10259.0</td>\n",
       "      <td>37619.081002</td>\n",
       "      <td>30453.891371</td>\n",
       "      <td>0.000000</td>\n",
       "      <td>0.000000</td>\n",
       "      <td>33760.000000</td>\n",
       "      <td>62446.000000</td>\n",
       "      <td>99981.000000</td>\n",
       "    </tr>\n",
       "    <tr>\n",
       "      <th>monthly_premium_auto</th>\n",
       "      <td>10259.0</td>\n",
       "      <td>86.864997</td>\n",
       "      <td>21.894668</td>\n",
       "      <td>61.000000</td>\n",
       "      <td>68.000000</td>\n",
       "      <td>80.000000</td>\n",
       "      <td>105.000000</td>\n",
       "      <td>149.000000</td>\n",
       "    </tr>\n",
       "    <tr>\n",
       "      <th>months_since_last_claim</th>\n",
       "      <td>10259.0</td>\n",
       "      <td>14.247490</td>\n",
       "      <td>10.372825</td>\n",
       "      <td>0.000000</td>\n",
       "      <td>5.000000</td>\n",
       "      <td>13.000000</td>\n",
       "      <td>23.000000</td>\n",
       "      <td>35.000000</td>\n",
       "    </tr>\n",
       "    <tr>\n",
       "      <th>months_since_policy_inception</th>\n",
       "      <td>10259.0</td>\n",
       "      <td>47.982552</td>\n",
       "      <td>27.937477</td>\n",
       "      <td>0.000000</td>\n",
       "      <td>24.000000</td>\n",
       "      <td>48.000000</td>\n",
       "      <td>71.000000</td>\n",
       "      <td>99.000000</td>\n",
       "    </tr>\n",
       "    <tr>\n",
       "      <th>number_of_open_complaints</th>\n",
       "      <td>10259.0</td>\n",
       "      <td>0.359977</td>\n",
       "      <td>0.890013</td>\n",
       "      <td>0.000000</td>\n",
       "      <td>0.000000</td>\n",
       "      <td>0.000000</td>\n",
       "      <td>0.000000</td>\n",
       "      <td>5.000000</td>\n",
       "    </tr>\n",
       "    <tr>\n",
       "      <th>number_of_policies</th>\n",
       "      <td>10259.0</td>\n",
       "      <td>2.984404</td>\n",
       "      <td>2.397184</td>\n",
       "      <td>1.000000</td>\n",
       "      <td>1.000000</td>\n",
       "      <td>2.000000</td>\n",
       "      <td>4.000000</td>\n",
       "      <td>9.000000</td>\n",
       "    </tr>\n",
       "    <tr>\n",
       "      <th>total_claim_amount</th>\n",
       "      <td>10259.0</td>\n",
       "      <td>398.872434</td>\n",
       "      <td>230.975966</td>\n",
       "      <td>0.099007</td>\n",
       "      <td>257.900458</td>\n",
       "      <td>365.312072</td>\n",
       "      <td>523.888845</td>\n",
       "      <td>1554.089517</td>\n",
       "    </tr>\n",
       "    <tr>\n",
       "      <th>month</th>\n",
       "      <td>10259.0</td>\n",
       "      <td>1.467297</td>\n",
       "      <td>0.498954</td>\n",
       "      <td>1.000000</td>\n",
       "      <td>1.000000</td>\n",
       "      <td>1.000000</td>\n",
       "      <td>2.000000</td>\n",
       "      <td>2.000000</td>\n",
       "    </tr>\n",
       "  </tbody>\n",
       "</table>\n",
       "</div>"
      ],
      "text/plain": [
       "                                 count          mean           std  \\\n",
       "customer_lifetime_value        10259.0   7537.090241   6129.875339   \n",
       "income                         10259.0  37619.081002  30453.891371   \n",
       "monthly_premium_auto           10259.0     86.864997     21.894668   \n",
       "months_since_last_claim        10259.0     14.247490     10.372825   \n",
       "months_since_policy_inception  10259.0     47.982552     27.937477   \n",
       "number_of_open_complaints      10259.0      0.359977      0.890013   \n",
       "number_of_policies             10259.0      2.984404      2.397184   \n",
       "total_claim_amount             10259.0    398.872434    230.975966   \n",
       "month                          10259.0      1.467297      0.498954   \n",
       "\n",
       "                                       min          25%           50%  \\\n",
       "customer_lifetime_value        1898.007675  3870.715367   5560.278162   \n",
       "income                            0.000000     0.000000  33760.000000   \n",
       "monthly_premium_auto             61.000000    68.000000     80.000000   \n",
       "months_since_last_claim           0.000000     5.000000     13.000000   \n",
       "months_since_policy_inception     0.000000    24.000000     48.000000   \n",
       "number_of_open_complaints         0.000000     0.000000      0.000000   \n",
       "number_of_policies                1.000000     1.000000      2.000000   \n",
       "total_claim_amount                0.099007   257.900458    365.312072   \n",
       "month                             1.000000     1.000000      1.000000   \n",
       "\n",
       "                                        75%           max  \n",
       "customer_lifetime_value         8641.288305  51016.067040  \n",
       "income                         62446.000000  99981.000000  \n",
       "monthly_premium_auto             105.000000    149.000000  \n",
       "months_since_last_claim           23.000000     35.000000  \n",
       "months_since_policy_inception     71.000000     99.000000  \n",
       "number_of_open_complaints          0.000000      5.000000  \n",
       "number_of_policies                 4.000000      9.000000  \n",
       "total_claim_amount               523.888845   1554.089517  \n",
       "month                              2.000000      2.000000  "
      ]
     },
     "execution_count": 37,
     "metadata": {},
     "output_type": "execute_result"
    }
   ],
   "source": [
    "iqr = np.percentile(numerical['monthly_premium_auto'],75) - np.percentile(numerical['monthly_premium_auto'],25)\n",
    "numerical = numerical[(numerical['monthly_premium_auto']>np.percentile(numerical['monthly_premium_auto'],25) - 1*iqr) & (numerical['monthly_premium_auto']<np.percentile(numerical['monthly_premium_auto'],75) + 1*iqr)].copy()\n",
    "\n",
    "numerical.describe().T"
   ]
  },
  {
   "cell_type": "markdown",
   "id": "0bbdf0c0",
   "metadata": {},
   "source": [
    "Making a heat matrix to check correlations, and establishing that the only column that seems to have a correlation with total claim amount is fact monthly premium auto."
   ]
  },
  {
   "cell_type": "code",
   "execution_count": 38,
   "id": "bf737db1",
   "metadata": {},
   "outputs": [
    {
     "data": {
      "image/png": "[encoded data removed]",
      "text/plain": [
       "<Figure size 576x360 with 2 Axes>"
      ]
     },
     "metadata": {},
     "output_type": "display_data"
    },
    {
     "data": {
      "text/html": [
       "<div>\n",
       "<style scoped>\n",
       "    .dataframe tbody tr th:only-of-type {\n",
       "        vertical-align: middle;\n",
       "    }\n",
       "\n",
       "    .dataframe tbody tr th {\n",
       "        vertical-align: top;\n",
       "    }\n",
       "\n",
       "    .dataframe thead th {\n",
       "        text-align: right;\n",
       "    }\n",
       "</style>\n",
       "<table border=\"1\" class=\"dataframe\">\n",
       "  <thead>\n",
       "    <tr style=\"text-align: right;\">\n",
       "      <th></th>\n",
       "      <th>customer_lifetime_value</th>\n",
       "      <th>income</th>\n",
       "      <th>monthly_premium_auto</th>\n",
       "      <th>months_since_last_claim</th>\n",
       "      <th>months_since_policy_inception</th>\n",
       "      <th>number_of_open_complaints</th>\n",
       "      <th>number_of_policies</th>\n",
       "      <th>total_claim_amount</th>\n",
       "      <th>month</th>\n",
       "    </tr>\n",
       "  </thead>\n",
       "  <tbody>\n",
       "    <tr>\n",
       "      <th>customer_lifetime_value</th>\n",
       "      <td>1.000000</td>\n",
       "      <td>0.029933</td>\n",
       "      <td>0.314381</td>\n",
       "      <td>0.013613</td>\n",
       "      <td>0.001566</td>\n",
       "      <td>-0.033312</td>\n",
       "      <td>0.014051</td>\n",
       "      <td>0.123219</td>\n",
       "      <td>-0.007745</td>\n",
       "    </tr>\n",
       "    <tr>\n",
       "      <th>income</th>\n",
       "      <td>0.029933</td>\n",
       "      <td>1.000000</td>\n",
       "      <td>-0.008811</td>\n",
       "      <td>-0.014506</td>\n",
       "      <td>-0.007918</td>\n",
       "      <td>0.005285</td>\n",
       "      <td>-0.006897</td>\n",
       "      <td>-0.409548</td>\n",
       "      <td>0.000478</td>\n",
       "    </tr>\n",
       "    <tr>\n",
       "      <th>monthly_premium_auto</th>\n",
       "      <td>0.314381</td>\n",
       "      <td>-0.008811</td>\n",
       "      <td>1.000000</td>\n",
       "      <td>-0.008061</td>\n",
       "      <td>0.007542</td>\n",
       "      <td>-0.020338</td>\n",
       "      <td>-0.019314</td>\n",
       "      <td>0.464381</td>\n",
       "      <td>0.018411</td>\n",
       "    </tr>\n",
       "    <tr>\n",
       "      <th>months_since_last_claim</th>\n",
       "      <td>0.013613</td>\n",
       "      <td>-0.014506</td>\n",
       "      <td>-0.008061</td>\n",
       "      <td>1.000000</td>\n",
       "      <td>-0.038790</td>\n",
       "      <td>0.040316</td>\n",
       "      <td>-0.002511</td>\n",
       "      <td>-0.013570</td>\n",
       "      <td>-0.020954</td>\n",
       "    </tr>\n",
       "    <tr>\n",
       "      <th>months_since_policy_inception</th>\n",
       "      <td>0.001566</td>\n",
       "      <td>-0.007918</td>\n",
       "      <td>0.007542</td>\n",
       "      <td>-0.038790</td>\n",
       "      <td>1.000000</td>\n",
       "      <td>0.008607</td>\n",
       "      <td>-0.014017</td>\n",
       "      <td>-0.010857</td>\n",
       "      <td>0.015383</td>\n",
       "    </tr>\n",
       "    <tr>\n",
       "      <th>number_of_open_complaints</th>\n",
       "      <td>-0.033312</td>\n",
       "      <td>0.005285</td>\n",
       "      <td>-0.020338</td>\n",
       "      <td>0.040316</td>\n",
       "      <td>0.008607</td>\n",
       "      <td>1.000000</td>\n",
       "      <td>0.005739</td>\n",
       "      <td>-0.015084</td>\n",
       "      <td>-0.005648</td>\n",
       "    </tr>\n",
       "    <tr>\n",
       "      <th>number_of_policies</th>\n",
       "      <td>0.014051</td>\n",
       "      <td>-0.006897</td>\n",
       "      <td>-0.019314</td>\n",
       "      <td>-0.002511</td>\n",
       "      <td>-0.014017</td>\n",
       "      <td>0.005739</td>\n",
       "      <td>1.000000</td>\n",
       "      <td>-0.009736</td>\n",
       "      <td>0.004219</td>\n",
       "    </tr>\n",
       "    <tr>\n",
       "      <th>total_claim_amount</th>\n",
       "      <td>0.123219</td>\n",
       "      <td>-0.409548</td>\n",
       "      <td>0.464381</td>\n",
       "      <td>-0.013570</td>\n",
       "      <td>-0.010857</td>\n",
       "      <td>-0.015084</td>\n",
       "      <td>-0.009736</td>\n",
       "      <td>1.000000</td>\n",
       "      <td>0.001717</td>\n",
       "    </tr>\n",
       "    <tr>\n",
       "      <th>month</th>\n",
       "      <td>-0.007745</td>\n",
       "      <td>0.000478</td>\n",
       "      <td>0.018411</td>\n",
       "      <td>-0.020954</td>\n",
       "      <td>0.015383</td>\n",
       "      <td>-0.005648</td>\n",
       "      <td>0.004219</td>\n",
       "      <td>0.001717</td>\n",
       "      <td>1.000000</td>\n",
       "    </tr>\n",
       "  </tbody>\n",
       "</table>\n",
       "</div>"
      ],
      "text/plain": [
       "                               customer_lifetime_value    income  \\\n",
       "customer_lifetime_value                       1.000000  0.029933   \n",
       "income                                        0.029933  1.000000   \n",
       "monthly_premium_auto                          0.314381 -0.008811   \n",
       "months_since_last_claim                       0.013613 -0.014506   \n",
       "months_since_policy_inception                 0.001566 -0.007918   \n",
       "number_of_open_complaints                    -0.033312  0.005285   \n",
       "number_of_policies                            0.014051 -0.006897   \n",
       "total_claim_amount                            0.123219 -0.409548   \n",
       "month                                        -0.007745  0.000478   \n",
       "\n",
       "                               monthly_premium_auto  months_since_last_claim  \\\n",
       "customer_lifetime_value                    0.314381                 0.013613   \n",
       "income                                    -0.008811                -0.014506   \n",
       "monthly_premium_auto                       1.000000                -0.008061   \n",
       "months_since_last_claim                   -0.008061                 1.000000   \n",
       "months_since_policy_inception              0.007542                -0.038790   \n",
       "number_of_open_complaints                 -0.020338                 0.040316   \n",
       "number_of_policies                        -0.019314                -0.002511   \n",
       "total_claim_amount                         0.464381                -0.013570   \n",
       "month                                      0.018411                -0.020954   \n",
       "\n",
       "                               months_since_policy_inception  \\\n",
       "customer_lifetime_value                             0.001566   \n",
       "income                                             -0.007918   \n",
       "monthly_premium_auto                                0.007542   \n",
       "months_since_last_claim                            -0.038790   \n",
       "months_since_policy_inception                       1.000000   \n",
       "number_of_open_complaints                           0.008607   \n",
       "number_of_policies                                 -0.014017   \n",
       "total_claim_amount                                 -0.010857   \n",
       "month                                               0.015383   \n",
       "\n",
       "                               number_of_open_complaints  number_of_policies  \\\n",
       "customer_lifetime_value                        -0.033312            0.014051   \n",
       "income                                          0.005285           -0.006897   \n",
       "monthly_premium_auto                           -0.020338           -0.019314   \n",
       "months_since_last_claim                         0.040316           -0.002511   \n",
       "months_since_policy_inception                   0.008607           -0.014017   \n",
       "number_of_open_complaints                       1.000000            0.005739   \n",
       "number_of_policies                              0.005739            1.000000   \n",
       "total_claim_amount                             -0.015084           -0.009736   \n",
       "month                                          -0.005648            0.004219   \n",
       "\n",
       "                               total_claim_amount     month  \n",
       "customer_lifetime_value                  0.123219 -0.007745  \n",
       "income                                  -0.409548  0.000478  \n",
       "monthly_premium_auto                     0.464381  0.018411  \n",
       "months_since_last_claim                 -0.013570 -0.020954  \n",
       "months_since_policy_inception           -0.010857  0.015383  \n",
       "number_of_open_complaints               -0.015084 -0.005648  \n",
       "number_of_policies                      -0.009736  0.004219  \n",
       "total_claim_amount                       1.000000  0.001717  \n",
       "month                                    0.001717  1.000000  "
      ]
     },
     "execution_count": 38,
     "metadata": {},
     "output_type": "execute_result"
    }
   ],
   "source": [
    "correlations_matrix = numerical.corr()\n",
    "sns.heatmap(correlations_matrix, annot=True)\n",
    "plt.show()\n",
    "correlations_matrix"
   ]
  },
  {
   "cell_type": "markdown",
   "id": "fd9423ac",
   "metadata": {},
   "source": [
    "X-y split and linear regression"
   ]
  },
  {
   "cell_type": "code",
   "execution_count": 39,
   "id": "00aada10",
   "metadata": {},
   "outputs": [
    {
     "name": "stdout",
     "output_type": "stream",
     "text": [
      "R2-score is  0.3807533201271598\n",
      "mean squared error (MSE) is  181.7512754952767\n"
     ]
    }
   ],
   "source": [
    "from sklearn import linear_model\n",
    "from sklearn.metrics import mean_squared_error, r2_score\n",
    "\n",
    "y = numerical['total_claim_amount']\n",
    "X = numerical.drop(['total_claim_amount', 'month'], axis=1)\n",
    "\n",
    "lm = linear_model.LinearRegression()\n",
    "lm.fit(X,y)\n",
    "\n",
    "regression_line = lm.intercept_ + lm.coef_[0]*numerical['total_claim_amount']\n",
    "#Results from infinity to one, usually good if values 0.5-0.85\n",
    "print(\"R2-score is \", lm.score(X,y))\n",
    "\n",
    "# This return the average error for each prediction\n",
    "print(\"mean squared error (MSE) is \", np.sqrt(mean_squared_error(lm.predict(X),y)))"
   ]
  },
  {
   "cell_type": "markdown",
   "id": "8be4c4dc",
   "metadata": {},
   "source": [
    "Evaluating the linear model and measurements I can't say that it is a reliable Linear regression, as we can acess by the evaluation metrics it caries a good amount of risk, some more study and probably a better cleaning are in order. \n",
    "I will update if I get new ideas.\n",
    "\n",
    "I have tested just using the columns customer_lifetime_value, income, monthly_premium_auto and the R2 value droped 0.08 wich is worse, but the MSE actully dropped by 30, improving his accuracy, wich is actually very interesting."
   ]
  },
  {
   "cell_type": "markdown",
   "id": "dac42091",
   "metadata": {},
   "source": [
    "Normalizing the numerical dataset using MinMax Scaler Method"
   ]
  },
  {
   "cell_type": "code",
   "execution_count": 40,
   "id": "33bb95f7",
   "metadata": {},
   "outputs": [
    {
     "data": {
      "text/html": [
       "<div>\n",
       "<style scoped>\n",
       "    .dataframe tbody tr th:only-of-type {\n",
       "        vertical-align: middle;\n",
       "    }\n",
       "\n",
       "    .dataframe tbody tr th {\n",
       "        vertical-align: top;\n",
       "    }\n",
       "\n",
       "    .dataframe thead th {\n",
       "        text-align: right;\n",
       "    }\n",
       "</style>\n",
       "<table border=\"1\" class=\"dataframe\">\n",
       "  <thead>\n",
       "    <tr style=\"text-align: right;\">\n",
       "      <th></th>\n",
       "      <th>count</th>\n",
       "      <th>mean</th>\n",
       "      <th>std</th>\n",
       "      <th>min</th>\n",
       "      <th>25%</th>\n",
       "      <th>50%</th>\n",
       "      <th>75%</th>\n",
       "      <th>max</th>\n",
       "    </tr>\n",
       "  </thead>\n",
       "  <tbody>\n",
       "    <tr>\n",
       "      <th>customer_lifetime_value</th>\n",
       "      <td>10259.0</td>\n",
       "      <td>0.114807</td>\n",
       "      <td>0.124799</td>\n",
       "      <td>0.0</td>\n",
       "      <td>0.040163</td>\n",
       "      <td>0.074561</td>\n",
       "      <td>0.137287</td>\n",
       "      <td>1.0</td>\n",
       "    </tr>\n",
       "    <tr>\n",
       "      <th>income</th>\n",
       "      <td>10259.0</td>\n",
       "      <td>0.376262</td>\n",
       "      <td>0.304597</td>\n",
       "      <td>0.0</td>\n",
       "      <td>0.000000</td>\n",
       "      <td>0.337664</td>\n",
       "      <td>0.624579</td>\n",
       "      <td>1.0</td>\n",
       "    </tr>\n",
       "    <tr>\n",
       "      <th>monthly_premium_auto</th>\n",
       "      <td>10259.0</td>\n",
       "      <td>0.293920</td>\n",
       "      <td>0.248803</td>\n",
       "      <td>0.0</td>\n",
       "      <td>0.079545</td>\n",
       "      <td>0.215909</td>\n",
       "      <td>0.500000</td>\n",
       "      <td>1.0</td>\n",
       "    </tr>\n",
       "    <tr>\n",
       "      <th>months_since_last_claim</th>\n",
       "      <td>10259.0</td>\n",
       "      <td>0.407071</td>\n",
       "      <td>0.296366</td>\n",
       "      <td>0.0</td>\n",
       "      <td>0.142857</td>\n",
       "      <td>0.371429</td>\n",
       "      <td>0.657143</td>\n",
       "      <td>1.0</td>\n",
       "    </tr>\n",
       "    <tr>\n",
       "      <th>months_since_policy_inception</th>\n",
       "      <td>10259.0</td>\n",
       "      <td>0.484672</td>\n",
       "      <td>0.282197</td>\n",
       "      <td>0.0</td>\n",
       "      <td>0.242424</td>\n",
       "      <td>0.484848</td>\n",
       "      <td>0.717172</td>\n",
       "      <td>1.0</td>\n",
       "    </tr>\n",
       "    <tr>\n",
       "      <th>number_of_open_complaints</th>\n",
       "      <td>10259.0</td>\n",
       "      <td>0.071995</td>\n",
       "      <td>0.178003</td>\n",
       "      <td>0.0</td>\n",
       "      <td>0.000000</td>\n",
       "      <td>0.000000</td>\n",
       "      <td>0.000000</td>\n",
       "      <td>1.0</td>\n",
       "    </tr>\n",
       "    <tr>\n",
       "      <th>number_of_policies</th>\n",
       "      <td>10259.0</td>\n",
       "      <td>0.248050</td>\n",
       "      <td>0.299648</td>\n",
       "      <td>0.0</td>\n",
       "      <td>0.000000</td>\n",
       "      <td>0.125000</td>\n",
       "      <td>0.375000</td>\n",
       "      <td>1.0</td>\n",
       "    </tr>\n",
       "  </tbody>\n",
       "</table>\n",
       "</div>"
      ],
      "text/plain": [
       "                                 count      mean       std  min       25%  \\\n",
       "customer_lifetime_value        10259.0  0.114807  0.124799  0.0  0.040163   \n",
       "income                         10259.0  0.376262  0.304597  0.0  0.000000   \n",
       "monthly_premium_auto           10259.0  0.293920  0.248803  0.0  0.079545   \n",
       "months_since_last_claim        10259.0  0.407071  0.296366  0.0  0.142857   \n",
       "months_since_policy_inception  10259.0  0.484672  0.282197  0.0  0.242424   \n",
       "number_of_open_complaints      10259.0  0.071995  0.178003  0.0  0.000000   \n",
       "number_of_policies             10259.0  0.248050  0.299648  0.0  0.000000   \n",
       "\n",
       "                                    50%       75%  max  \n",
       "customer_lifetime_value        0.074561  0.137287  1.0  \n",
       "income                         0.337664  0.624579  1.0  \n",
       "monthly_premium_auto           0.215909  0.500000  1.0  \n",
       "months_since_last_claim        0.371429  0.657143  1.0  \n",
       "months_since_policy_inception  0.484848  0.717172  1.0  \n",
       "number_of_open_complaints      0.000000  0.000000  1.0  \n",
       "number_of_policies             0.125000  0.375000  1.0  "
      ]
     },
     "execution_count": 40,
     "metadata": {},
     "output_type": "execute_result"
    }
   ],
   "source": [
    "from sklearn.preprocessing import MinMaxScaler \n",
    "from sklearn.preprocessing import StandardScaler\n",
    "\n",
    "X_num = X.select_dtypes(include = np.number)\n",
    "X_cat = X.select_dtypes(include = object)\n",
    "\n",
    "transformer = MinMaxScaler().fit(X_num)\n",
    "x_normalized = transformer.transform(X_num)\n",
    "x_normalized = pd.DataFrame(x_normalized, columns=X_num.columns)\n",
    "\n",
    "x_normalized.describe().T"
   ]
  },
  {
   "cell_type": "code",
   "execution_count": null,
   "id": "3ac7617c",
   "metadata": {},
   "outputs": [],
   "source": []
  }
 ],
 "metadata": {
  "kernelspec": {
   "display_name": "Python 3 (ipykernel)",
   "language": "python",
   "name": "python3"
  },
  "language_info": {
   "codemirror_mode": {
    "name": "ipython",
    "version": 3
   },
   "file_extension": ".py",
   "mimetype": "text/x-python",
   "name": "python",
   "nbconvert_exporter": "python",
   "pygments_lexer": "ipython3",
   "version": "3.9.12"
  }
 },
 "nbformat": 4,
 "nbformat_minor": 5
}
